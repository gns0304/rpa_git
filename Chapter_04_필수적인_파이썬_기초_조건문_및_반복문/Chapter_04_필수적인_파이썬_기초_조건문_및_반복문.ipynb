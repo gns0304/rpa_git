{
 "cells": [
  {
   "cell_type": "markdown",
   "metadata": {},
   "source": [
    "###### CHAPTER 04\n",
    "# 필수적인 파이썬 기초 : 조건문 및 반복문\n",
    "---\n",
    "\n",
    "###### TOPIC 08\n",
    "###### 개념설명\n",
    "## 조건 및 반복문"
   ]
  },
  {
   "cell_type": "markdown",
   "metadata": {},
   "source": [
    "---\n",
    "###### TOPIC 09\n",
    "###### 개념설명\n",
    "## 조건에 대해서"
   ]
  },
  {
   "cell_type": "code",
   "execution_count": null,
   "metadata": {},
   "outputs": [],
   "source": [
    "#예시 22\n",
    "\n",
    "# 조건\n",
    "# 조건은 boolean 타입으로 표현됩니다.\n",
    "# boolean 타입은 True 또는 False로 표현됩니다.\n",
    "\n",
    "# 아래에 코드를 작성하세요\n",
    "\n"
   ]
  },
  {
   "cell_type": "code",
   "execution_count": null,
   "metadata": {},
   "outputs": [],
   "source": [
    "#예시 23\n",
    "\n",
    "# and 연산자는 두 개의 조건이 모두 참일 때 참을 반환합니다.\n",
    "# or 연산자는 두 개의 조건 중 하나라도 참일 때 참을 반환합니다.\n",
    "# not 연산자는 조건의 반대를 반환합니다.\n",
    "\n",
    "# 아래에 코드를 작성하세요\n",
    "\n"
   ]
  },
  {
   "cell_type": "code",
   "execution_count": null,
   "metadata": {},
   "outputs": [],
   "source": [
    "#예시 24\n",
    "\n",
    "# 조건과 조건문\n",
    "# 조건이 참일 때 코드의 블록을 실행합니다.\n",
    "\n",
    "# 참 자체일 때 실행\n",
    "\n",
    "# 아래에 코드를 작성하세요\n",
    "\n",
    "\n",
    "# 비교 연산자가 참을 반환할 때 실행\n",
    "\n",
    "# 아래에 코드를 작성하세요\n",
    "\n",
    "\n",
    "# 0 또는 빈 데이터가 아니면 실행\n",
    "\n",
    "# 아래에 코드를 작성하세요\n",
    "\n"
   ]
  },
  {
   "cell_type": "code",
   "execution_count": null,
   "metadata": {},
   "outputs": [],
   "source": [
    "#예시 25\n",
    "\n",
    "# 조건이 거짓이면 코드의 블록을 실행하지 않습니다.\n",
    "\n",
    "# 아래에 코드를 작성하세요\n",
    "\n"
   ]
  },
  {
   "cell_type": "code",
   "execution_count": null,
   "metadata": {},
   "outputs": [],
   "source": [
    "#예시 26\n",
    "\n",
    "# not 연산자는 조건의 반대를 반환합니다.\n",
    "\n",
    "# 아래에 코드를 작성하세요"
   ]
  },
  {
   "cell_type": "markdown",
   "metadata": {},
   "source": [
    "---\n",
    "###### TOPIC 10\n",
    "###### 개념설명\n",
    "## 조건문의 사용"
   ]
  },
  {
   "cell_type": "code",
   "execution_count": null,
   "metadata": {},
   "outputs": [],
   "source": [
    "#예시 27\n",
    "\n",
    "# 아래에 코드를 작성하세요\n"
   ]
  },
  {
   "cell_type": "code",
   "execution_count": null,
   "metadata": {},
   "outputs": [],
   "source": [
    "#예시 28\n",
    "\n",
    "# 아래에 코드를 작성하세요\n"
   ]
  },
  {
   "cell_type": "markdown",
   "metadata": {},
   "source": [
    "---\n",
    "###### TOPIC 11\n",
    "###### 개념설명\n",
    "## 반복문의 사용"
   ]
  },
  {
   "cell_type": "code",
   "execution_count": null,
   "metadata": {},
   "outputs": [],
   "source": [
    "#예시 29\n",
    "\n",
    "# while문\n",
    "\n",
    "# while문은 조건이 참일 때 코드의 블록을 반복적으로 실행합니다.\n",
    "\n",
    "# 아래에 코드를 작성하세요\n",
    "\n"
   ]
  },
  {
   "cell_type": "code",
   "execution_count": null,
   "metadata": {},
   "outputs": [],
   "source": [
    "#예시 30\n",
    "\n",
    "# 조건과 변수를 통하여 반복문을 제어할 수 있습니다.\n",
    "\n",
    "# 아래에 코드를 작성하세요"
   ]
  },
  {
   "cell_type": "code",
   "execution_count": null,
   "metadata": {},
   "outputs": [],
   "source": [
    "#예시 31\n",
    "\n",
    "#시퀀스 데이터를 for문으로 순차적으로 실행할 수 있습니다.\n",
    "# 시퀀스 데이터는 리스트, 튜플, 문자열 등이 있습니다.\n",
    "\n",
    "# 아래에 코드를 작성하세요"
   ]
  },
  {
   "cell_type": "code",
   "execution_count": null,
   "metadata": {},
   "outputs": [],
   "source": [
    "#예시 32\n",
    "\n",
    "# 아래에 코드를 작성하세요"
   ]
  },
  {
   "cell_type": "code",
   "execution_count": null,
   "metadata": {},
   "outputs": [],
   "source": [
    "#예시 33\n",
    "\n",
    "# 아래에 코드를 작성하세요"
   ]
  },
  {
   "cell_type": "code",
   "execution_count": null,
   "metadata": {},
   "outputs": [],
   "source": [
    "#예시 34\n",
    "\n",
    "# 중첩된 리스트에서의 반복문의 사용\n",
    "\n",
    "# 아래에 코드를 작성하세요\n"
   ]
  },
  {
   "cell_type": "code",
   "execution_count": null,
   "metadata": {},
   "outputs": [],
   "source": [
    "#예시 35\n",
    "\n",
    "# 딕셔너리에서의 반복문의 사용\n",
    "\n",
    "# 아래에 코드를 작성하세요"
   ]
  },
  {
   "cell_type": "code",
   "execution_count": null,
   "metadata": {},
   "outputs": [],
   "source": [
    "#예시 36\n",
    "\n",
    "# in 연산자\n",
    "\n",
    "# in 연산자는 시퀀스 데이터에 특정 값이 존재하는지 확인할 때 사용합니다.\n",
    "\n",
    "# 아래에 코드를 작성하세요"
   ]
  },
  {
   "cell_type": "markdown",
   "metadata": {},
   "source": [
    "---\n",
    "###### TOPIC 12\n",
    "## 조건문과 반복문의 결합"
   ]
  },
  {
   "cell_type": "code",
   "execution_count": null,
   "metadata": {},
   "outputs": [],
   "source": [
    "#예시 37\n",
    "\n",
    "# 아래에 코드를 작성하세요"
   ]
  }
 ],
 "metadata": {
  "kernelspec": {
   "display_name": "Python 3 (ipykernel)",
   "language": "python",
   "name": "python3"
  },
  "language_info": {
   "codemirror_mode": {
    "name": "ipython",
    "version": 3
   },
   "file_extension": ".py",
   "mimetype": "text/x-python",
   "name": "python",
   "nbconvert_exporter": "python",
   "pygments_lexer": "ipython3",
   "version": "3.9.13"
  }
 },
 "nbformat": 4,
 "nbformat_minor": 1
}
