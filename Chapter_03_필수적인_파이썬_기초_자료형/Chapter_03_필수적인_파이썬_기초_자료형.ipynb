{
 "cells": [
  {
   "cell_type": "markdown",
   "metadata": {},
   "source": [
    "###### CHAPTER 03\n",
    "# 필수적인 파이썬 기초 : 자료형\n",
    "___"
   ]
  },
  {
   "cell_type": "markdown",
   "metadata": {},
   "source": [
    "###### TOPIC 04\n",
    "\n",
    "# 반복 가능한 자료형에 대하여"
   ]
  },
  {
   "cell_type": "markdown",
   "metadata": {},
   "source": [
    "---\n",
    "###### TOPIC 05\n",
    "###### 개념설명\n",
    "## 리스트에 대하여"
   ]
  },
  {
   "cell_type": "markdown",
   "metadata": {},
   "source": [
    "### 리스트의 생성"
   ]
  },
  {
   "cell_type": "code",
   "execution_count": null,
   "metadata": {},
   "outputs": [],
   "source": [
    "# 예시 01\n",
    "\n",
    "# 대괄호 2개를 연속하여 리스트의 기본 형태를 만들 수 있습니다.\n",
    "\n",
    "# 아래에 코드를 작성하세요\n",
    "\n"
   ]
  },
  {
   "cell_type": "code",
   "execution_count": null,
   "metadata": {},
   "outputs": [],
   "source": [
    "# 예시 02\n",
    "\n",
    "#리스트 인스턴스를 만들어 빈 리스트를 생성할 수도 있습니다.\n",
    "\n",
    "# 아래에 코드를 작성하세요\n",
    "\n"
   ]
  },
  {
   "cell_type": "code",
   "execution_count": null,
   "metadata": {},
   "outputs": [],
   "source": [
    "# 예시 03\n",
    "\n",
    "# 리스트에 최초 인자를 넣을 때는 아래와 같은 형태로 만들어 낼 수 있습니다.\n",
    "# len() 함수를 이용하여 리스트의 길이를 구할 수 있습니다.\n",
    "\n",
    "# 아래에 코드를 작성하세요\n",
    "\n"
   ]
  },
  {
   "cell_type": "code",
   "execution_count": null,
   "metadata": {},
   "outputs": [],
   "source": [
    "#예시 04\n",
    "\n",
    "# 하나의 리스트에는 다양한 자료가 포함될 수 있으며, 리스트 안에 리스트를 중첩시킬 수도 있습니다.\n",
    "\n",
    "# 아래에 코드를작성하세요\n",
    "\n"
   ]
  },
  {
   "cell_type": "markdown",
   "metadata": {},
   "source": [
    "### 리스트에 값 추가하기"
   ]
  },
  {
   "cell_type": "code",
   "execution_count": null,
   "metadata": {},
   "outputs": [],
   "source": [
    "#예시 05\n",
    "\n",
    "#새로운 리스트를 생성합니다.\n",
    "\n",
    "# 아래에 코드를 작성하세요\n",
    "\n",
    "\n",
    "# append() 함수를 이용하여 리스트의 맨 뒤에 값을 추가할 수 있습니다.\n",
    "\n",
    "# 아래에 코드를 작성하세요\n",
    "\n"
   ]
  },
  {
   "cell_type": "markdown",
   "metadata": {},
   "source": [
    "### 인덱스로 리스트 인자 접근하기"
   ]
  },
  {
   "cell_type": "code",
   "execution_count": null,
   "metadata": {},
   "outputs": [],
   "source": [
    "#예시 06\n",
    "\n",
    "# 아래에 코드를 작성하세요\n",
    "\n",
    "\n",
    "# 파이썬에서 인덱스의 시작은 0부터 시작합니다.\n",
    "# 아래에 코드를 작성하세요\n",
    "\n",
    "\n",
    "# 아래에 코드를 작성하세요\n",
    "\n",
    "\n",
    "# del 연산자는 파이썬에서 객체를 삭제하는 연산자입니다.\n",
    "# 아래에 코드를 작성하세요\n"
   ]
  },
  {
   "cell_type": "markdown",
   "metadata": {},
   "source": [
    "### 리스트 슬라이싱에 대해"
   ]
  },
  {
   "cell_type": "code",
   "execution_count": null,
   "metadata": {},
   "outputs": [],
   "source": [
    "#예시 07\n",
    "\n",
    "# 아래에 코드를 작성하세요\n",
    "\n"
   ]
  },
  {
   "cell_type": "markdown",
   "metadata": {},
   "source": [
    "### 리스트를 문자열로 합치는 방법에 대해"
   ]
  },
  {
   "cell_type": "code",
   "execution_count": null,
   "metadata": {},
   "outputs": [],
   "source": [
    "#예시 08\n",
    "\n",
    "# 아래에 코드를 작성하세요\n",
    "\n"
   ]
  },
  {
   "cell_type": "markdown",
   "metadata": {},
   "source": [
    "---\n",
    "###### TOPIC 06\n",
    "###### 개념설명\n",
    "## 문자열에 대하여"
   ]
  },
  {
   "cell_type": "markdown",
   "metadata": {},
   "source": [
    "### 문자열의 생성"
   ]
  },
  {
   "cell_type": "code",
   "execution_count": null,
   "metadata": {},
   "outputs": [],
   "source": [
    "#예시 09\n",
    "\n",
    "# 하나의 따옴표 혹은 세 개의 따옴표로 감싸 문자열을 만들 수 있습니다.\n",
    "\n",
    "# 아래에 코드를 작성하세요\n",
    "\n"
   ]
  },
  {
   "cell_type": "code",
   "execution_count": null,
   "metadata": {},
   "outputs": [],
   "source": [
    "#예시 10\n",
    "\n",
    "# 따옴표로 감싼 자료는 그 내용과 상관없이 항상 문자열이 됩니다.\n",
    "\n",
    "# 아래에 코드를 작성하세요\n",
    "\n"
   ]
  },
  {
   "cell_type": "code",
   "execution_count": null,
   "metadata": {},
   "outputs": [],
   "source": [
    "#예시 11\n",
    "\n",
    "# 같은 따옴표를 연속하여 사용할 수 없습니다.\n",
    "\n",
    "# 아래에 코드를 작성하세요\n",
    "\n"
   ]
  },
  {
   "cell_type": "code",
   "execution_count": null,
   "metadata": {},
   "outputs": [],
   "source": [
    "#예시 12\n",
    "\n",
    "# 서로 다른 따옴표 혹은 이스케이프 시퀀스를 이용하여 따옴표를 나타낼 수 있습니다.\n",
    "\n",
    "# 아래에 코드를 작성하세요\n",
    "\n"
   ]
  },
  {
   "cell_type": "markdown",
   "metadata": {},
   "source": [
    "### 문자열 포매팅"
   ]
  },
  {
   "cell_type": "code",
   "execution_count": null,
   "metadata": {},
   "outputs": [],
   "source": [
    "#예시 13\n",
    "\n",
    "# f-string을 이용하여 문자열과 변수의 값을 함께 나타낼 수 있습니다.\n",
    "# 따옴표로 감싼 문자열 바깥 부분에 f를 작성하여 나타냅니다.\n",
    "# 중괄호 안에 변수의 이름을 작성합니다.\n",
    "\n",
    "# 아래에 코드를 작성하세요\n",
    "\n"
   ]
  },
  {
   "cell_type": "markdown",
   "metadata": {},
   "source": [
    "### 문자열 대치하기"
   ]
  },
  {
   "cell_type": "code",
   "execution_count": null,
   "metadata": {},
   "outputs": [],
   "source": [
    "#예시 14\n",
    "\n",
    "# 아래에 코드를 작성하세요\n",
    "\n"
   ]
  },
  {
   "cell_type": "markdown",
   "metadata": {},
   "source": [
    "### 문자열 분리하기"
   ]
  },
  {
   "cell_type": "code",
   "execution_count": null,
   "metadata": {},
   "outputs": [],
   "source": [
    "#예시 15\n",
    "\n",
    "# 띄어쓰기를 기준으로 분리할 수 있습니다.\n",
    "# 반환값은 리스트로 반환됩니다.\n",
    "\n",
    "# 아래에 코드를 작성하세요\n",
    "\n",
    "\n",
    "# 다른 기호를 통하여서도 분리할 수 있습니다.\n",
    "\n",
    "# 아래에 코드를 작성하세요\n",
    "\n"
   ]
  },
  {
   "cell_type": "markdown",
   "metadata": {},
   "source": [
    "### 문자열의 양 끝의 공백 혹은 특정 문자열 제거하기"
   ]
  },
  {
   "cell_type": "code",
   "execution_count": null,
   "metadata": {},
   "outputs": [],
   "source": [
    "#예시 16\n",
    "\n",
    "# 아래에 코드를 작성하세요\n",
    "\n",
    "\n",
    "# 오른쪽의 공백을 제거 합니다.\n",
    "\n",
    "# 아래에 코드를 작성하세요\n",
    "\n",
    "\n",
    "# 왼쪽의 공백을 제거 합니다.\n",
    "\n",
    "# 아래에 코드를 작성하세요\n",
    "\n",
    "\n",
    "\n",
    "# 양쪽의 공백을 제거 합니다.\n",
    "\n",
    "# 아래에 코드를 작성하세요\n",
    "\n"
   ]
  },
  {
   "cell_type": "code",
   "execution_count": null,
   "metadata": {},
   "outputs": [],
   "source": [
    "#예시 17\n",
    "\n",
    "# 아래에 코드를 작성하세요\n",
    "\n",
    "\n",
    "# 공백이 아닌 특정 문자를 제거할 수도 있습니다.\n",
    "\n",
    "# 아래에 코드를 작성하세요\n",
    "\n",
    "\n",
    "# 중간에 삽입된 문자는 제거되지 않습니다.\n",
    "\n",
    "# 아래에 코드를 작성하세요\n",
    "\n"
   ]
  },
  {
   "cell_type": "markdown",
   "metadata": {},
   "source": [
    "###### 개념설명\n",
    "## 이스케이프 시퀀스에 대하여"
   ]
  },
  {
   "cell_type": "code",
   "execution_count": null,
   "metadata": {},
   "outputs": [],
   "source": [
    "#예시 18\n",
    "\n",
    "# 역슬래시(\\)를 이용하여 특정 문자를 표현할 수 있습니다.\n",
    "\n",
    "# \\n은 줄바꿈을 의미합니다.\n",
    "\n",
    "# 아래에 코드를 작성하세요\n",
    "\n",
    "\n",
    "# \\t는 탭을 의미합니다.\n",
    "\n",
    "# 아래에 코드를 작성하세요\n",
    "\n",
    "\n",
    "# \\\\는 역슬래시를 의미합니다.\n",
    "\n",
    "# 아래에 코드를 작성하세요\n",
    "\n",
    "\n",
    "# \\\"는 큰따옴표를 의미합니다.\n",
    "\n",
    "# 아래에 코드를 작성하세요\n",
    "\n",
    "\n",
    "# \\'는 작은따옴표를 의미합니다.\n",
    "\n",
    "# 아래에 코드를 작성하세요\n",
    "\n"
   ]
  },
  {
   "cell_type": "markdown",
   "metadata": {},
   "source": [
    "---\n",
    "###### TOPIC 07\n",
    "###### 개념설명\n",
    "## 사전형 데이터에 대해서"
   ]
  },
  {
   "cell_type": "markdown",
   "metadata": {},
   "source": [
    "### 사전형 데이터 생성하기"
   ]
  },
  {
   "cell_type": "code",
   "execution_count": null,
   "metadata": {},
   "outputs": [],
   "source": [
    "#예시 19\n",
    "\n",
    "# 딕셔너리의 값은 다양한 자료형이 될 수 있습니다.\n",
    "\n",
    "# 아래에 코드를 작성하세요\n",
    "\n",
    "\n",
    "# 딕셔너리 인스턴스로 빈 딕셔너리를 만들 수 있습니다.\n",
    "\n",
    "# 아래에 코드를 작성하세요\n",
    "\n",
    "\n",
    "# 중괄호를 통해서 빈 딕셔너리를 만들 수 있습니다.\n",
    "\n",
    "# 아래에 코드를 작성하세요\n"
   ]
  },
  {
   "cell_type": "markdown",
   "metadata": {},
   "source": [
    "### 사전형 데이터 추가하고 변경하기"
   ]
  },
  {
   "cell_type": "code",
   "execution_count": null,
   "metadata": {},
   "outputs": [],
   "source": [
    "#예시 20\n",
    "\n",
    "# 딕셔너리를 생성합니다.\n",
    "\n",
    "# 아래에 코드를 작성하세요\n",
    "\n",
    "\n",
    "# 키값을 통하여 값을 추가할 수 있습니다.\n",
    "\n",
    "# 아래에 코드를 작성하세요\n",
    "\n",
    "\n",
    "# 키값을 통하여 값을 변경할 수 있습니다.\n",
    "\n",
    "# 아래에 코드를 작성하세요\n",
    "\n"
   ]
  },
  {
   "cell_type": "markdown",
   "metadata": {},
   "source": [
    "### 사전형 데이터 키와 값 불러오기"
   ]
  },
  {
   "cell_type": "code",
   "execution_count": null,
   "metadata": {},
   "outputs": [],
   "source": [
    "#예시 21\n",
    "    \n",
    "# keys() 함수를 통하여 딕셔너리의 키값들을 리스트로 반환할 수 있습니다.\n",
    "\n",
    "# 아래에 코드를 작성하세요\n",
    "\n",
    "\n",
    "# values() 함수를 통하여 딕셔너리의 값들을 리스트로 반환할 수 있습니다.\n",
    "\n",
    "# 아래에 코드를 작성하세요\n",
    "\n",
    "\n",
    "# items() 함수를 통하여 딕셔너리의 키와 값의 쌍들을 리스트로 반환할 수 있습니다.\n",
    "\n",
    "# 아래에 코드를 작성하세요\n",
    "\n"
   ]
  }
 ],
 "metadata": {
  "kernelspec": {
   "display_name": "Python 3 (ipykernel)",
   "language": "python",
   "name": "python3"
  },
  "language_info": {
   "codemirror_mode": {
    "name": "ipython",
    "version": 3
   },
   "file_extension": ".py",
   "mimetype": "text/x-python",
   "name": "python",
   "nbconvert_exporter": "python",
   "pygments_lexer": "ipython3",
   "version": "3.9.13"
  }
 },
 "nbformat": 4,
 "nbformat_minor": 1
}
