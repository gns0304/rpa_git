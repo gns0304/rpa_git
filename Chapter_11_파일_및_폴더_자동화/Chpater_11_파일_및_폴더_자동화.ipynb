{
 "cells": [
  {
   "cell_type": "markdown",
   "metadata": {},
   "source": [
    "###### CHAPTER 11\n",
    "# 파일 및 폴더 자동화\n",
    "---\n"
   ]
  },
  {
   "cell_type": "markdown",
   "metadata": {},
   "source": [
    "###### Topic 18\n",
    "###### 개념설명\n",
    "## 디렉토리와 경로에 대해"
   ]
  },
  {
   "cell_type": "markdown",
   "metadata": {},
   "source": [
    "### 디렉토리"
   ]
  },
  {
   "cell_type": "markdown",
   "metadata": {},
   "source": [
    "### 경로(Path)"
   ]
  },
  {
   "cell_type": "markdown",
   "metadata": {},
   "source": [
    "### 절대경로와 상대경로"
   ]
  },
  {
   "cell_type": "markdown",
   "metadata": {},
   "source": [
    "### 경로의 표기"
   ]
  },
  {
   "cell_type": "code",
   "execution_count": null,
   "metadata": {},
   "outputs": [],
   "source": [
    "# 별도의 처리 없이 백슬래쉬가 포함된 경로를 출력하였을 때\n",
    "# 'unicodeescape' codec can't decode bytes in position 오류가 발생합니다.\n",
    "\n",
    "print(\"C:\\Users\")"
   ]
  },
  {
   "cell_type": "code",
   "execution_count": null,
   "metadata": {},
   "outputs": [],
   "source": [
    "# 위의 오류를 해결하기 위해서는 백슬래쉬를 두 번 입력해야 합니다.\n",
    "\n",
    "# 아래에 코드를 작성하세요"
   ]
  },
  {
   "cell_type": "code",
   "execution_count": null,
   "metadata": {},
   "outputs": [],
   "source": [
    "# 또는 백슬래쉬가 포함된 문자열 따옴표 앞에 r을 붙여서 raw string으로 처리할 수 있습니다.\n",
    "# 이는 백슬래쉬를 이스케이프 문자가 아닌 문자 그대로(raw) 인식하게 하는 방법입니다.\n",
    "\n",
    "# 아래에 코드를 작성하세요"
   ]
  },
  {
   "cell_type": "code",
   "execution_count": null,
   "metadata": {},
   "outputs": [],
   "source": [
    "#예시 69\n",
    "\n",
    "# 이러한 문제는 경로를 합치거나 새로운 경로를 만들어 낼 때의 제약점이 됩니다.\n",
    "# 이를 해결하기 위해서는 os.path.join() 함수 등을 통하여 경로를 합치는 방법을 사용합니다.\n",
    "\n",
    "# 아래에 코드를 작성하세요\n"
   ]
  },
  {
   "cell_type": "markdown",
   "metadata": {},
   "source": [
    "###### Topic 19\n",
    "###### 개념설명\n",
    "\n",
    "### OS 라이브러리를 이용한 경로 처리"
   ]
  },
  {
   "cell_type": "code",
   "execution_count": null,
   "metadata": {},
   "outputs": [],
   "source": [
    "import os"
   ]
  },
  {
   "cell_type": "code",
   "execution_count": null,
   "metadata": {},
   "outputs": [],
   "source": [
    "#예시 70\n",
    "\n",
    "# 새 디렉토리 생성하기\n",
    "# mkdir() 함수를 통하여 폴더를 생성할 수 있습니다. 인자에는 생성할 폴더의 경로를 입력합니다.\n",
    "# 단, 이미 동일한 이름의 폴더가 존재하는 경우에는 오류가 발생합니다.\n",
    "\n",
    "# 아래 코드는 현재 디렉토리에 대하여 NewFolder이라는 이름의 폴더를 생성합니다.\n",
    "\n",
    "# 아래에 코드를 작성하세요\n",
    "\n",
    "\n",
    "\n",
    "# 아래 코드는 상위 디렉토리에 대해서 NewFolder이라는 폴더를 생성합니다.\n",
    "\n",
    "# 아래에 코드를 작성하세요"
   ]
  },
  {
   "cell_type": "markdown",
   "metadata": {},
   "source": [
    "---\n",
    "###### 연습 08\n",
    "\n",
    "### os.path.exists() 함수를 이용하여 폴더가 존재하지 않는 경우에만 생성하는 코드를 작성하여 봅시다."
   ]
  },
  {
   "cell_type": "code",
   "execution_count": null,
   "metadata": {},
   "outputs": [],
   "source": [
    "path = './OtherNewFolder'\n",
    "\n",
    "#아래에 코드를 작성하세요"
   ]
  },
  {
   "cell_type": "markdown",
   "metadata": {},
   "source": [
    "---\n",
    "###### 연습 09\n",
    "\n",
    "### 예외처리를 이용하여 폴더가 존재하지 않는 경우에만 생성하는 코드를 작성하여 봅시다."
   ]
  },
  {
   "cell_type": "code",
   "execution_count": null,
   "metadata": {},
   "outputs": [],
   "source": [
    "path = './OtherNewFolder'\n",
    "\n",
    "# 아래에 코드를 작성하세요"
   ]
  },
  {
   "cell_type": "markdown",
   "metadata": {},
   "source": [
    "---\n",
    "### mkdirs 함수 사용하기\n"
   ]
  },
  {
   "cell_type": "code",
   "execution_count": null,
   "metadata": {},
   "outputs": [],
   "source": [
    "#예시 71\n",
    "\n",
    "# 아래에 코드를 작성하세요"
   ]
  },
  {
   "cell_type": "markdown",
   "metadata": {},
   "source": [
    "---\n",
    "###### 개념설명\n",
    "### 현재 작업 디렉토리 및 절대경로에 대하여"
   ]
  },
  {
   "cell_type": "code",
   "execution_count": null,
   "metadata": {},
   "outputs": [],
   "source": [
    "#예시 72\n",
    "\n",
    "# 아래에 코드를 작성하세요"
   ]
  },
  {
   "cell_type": "code",
   "execution_count": null,
   "metadata": {},
   "outputs": [],
   "source": [
    "#예시 73\n",
    "\n",
    "# 아래에 코드를 작성하세요"
   ]
  },
  {
   "cell_type": "markdown",
   "metadata": {},
   "source": [
    "---\n",
    "###### 개념설명\n",
    "### 디렉토리의 있는 파일 및 폴더 조회하기"
   ]
  },
  {
   "cell_type": "code",
   "execution_count": null,
   "metadata": {},
   "outputs": [],
   "source": [
    "#예시 74\n",
    "\n",
    "# 아래에 코드를 작성하세요"
   ]
  },
  {
   "cell_type": "markdown",
   "metadata": {},
   "source": [
    "---\n",
    "###### 개념설명\n",
    "### 파일 삭제하기"
   ]
  },
  {
   "cell_type": "code",
   "execution_count": null,
   "metadata": {},
   "outputs": [],
   "source": [
    "#예시 75\n",
    "\n",
    "# 아래에 코드를 작성하세요"
   ]
  },
  {
   "cell_type": "code",
   "execution_count": null,
   "metadata": {},
   "outputs": [],
   "source": [
    "#예시 76\n",
    "\n",
    "# 아래에 코드를 작성하세요"
   ]
  },
  {
   "cell_type": "markdown",
   "metadata": {},
   "source": [
    "---\n",
    "###### 개념설명\n",
    "### 파일 이동 및 이름 변경하기"
   ]
  },
  {
   "cell_type": "code",
   "execution_count": null,
   "metadata": {},
   "outputs": [],
   "source": [
    "#예시 77\n",
    "\n",
    "# 아래에 코드를 작성하세요"
   ]
  },
  {
   "cell_type": "code",
   "execution_count": null,
   "metadata": {},
   "outputs": [],
   "source": [
    "#예시 78\n",
    "\n",
    "# 아래에 코드를 작성하세요"
   ]
  },
  {
   "cell_type": "markdown",
   "metadata": {},
   "source": [
    "---\n",
    "###### 개념설명\n",
    "###### Topic 20\n",
    "\n",
    "### glob 라이브러리를 이용한 파일 탐색"
   ]
  },
  {
   "cell_type": "code",
   "execution_count": null,
   "metadata": {},
   "outputs": [],
   "source": [
    "import glob"
   ]
  },
  {
   "cell_type": "code",
   "execution_count": null,
   "metadata": {},
   "outputs": [],
   "source": [
    "#예시 79\n",
    "\n",
    "# 해당 경로에 대한 모든 파일 및 폴더\n",
    "\n",
    "# 아래에 코드를 작성하세요\n",
    "\n",
    "\n",
    "# 해당 경로에 대한 모든 파일\n",
    "\n",
    "# 아래에 코드를 작성하세요\n",
    "\n",
    "\n",
    "#해당 경로에 대한 모든 폴더\n",
    "\n",
    "# 아래에 코드를 작성하세요\n",
    "\n"
   ]
  },
  {
   "cell_type": "code",
   "execution_count": null,
   "metadata": {},
   "outputs": [],
   "source": [
    "#예시 80\n",
    "\n",
    "# 해당 경로에 대한 특정 확장자\n",
    "\n",
    "# 아래에 코드를 작성하세요\n",
    "\n"
   ]
  },
  {
   "cell_type": "markdown",
   "metadata": {},
   "source": [
    "\n",
    "###### 개념설명 (중요)\n",
    "### glob 패턴에 대해서"
   ]
  },
  {
   "cell_type": "code",
   "execution_count": null,
   "metadata": {},
   "outputs": [],
   "source": [
    "#예시 80\n",
    "\n",
    "# recursive 조건과 ** 사용하기\n",
    "\n",
    "# 아래에 코드를 작성하세요"
   ]
  },
  {
   "cell_type": "code",
   "execution_count": null,
   "metadata": {},
   "outputs": [],
   "source": [
    "#예시 81\n",
    "\n",
    "# 숫자로 시작하는 txt 파일 찾기\n",
    "\n",
    "# 아래에 코드를 작성하세요\n",
    "\n",
    "\n",
    "# 숫자로 시작하는 모든 확장자의 파일 찾기\n",
    "\n",
    "# 아래에 코드를 작성하세요\n",
    "\n",
    "\n",
    "# 특정 폴더에서 알파벳 소문자로 시작하는 모든 확장자의 파일 찾기\n",
    "\n",
    "# 아래에 코드를 작성하세요"
   ]
  },
  {
   "cell_type": "code",
   "execution_count": null,
   "metadata": {},
   "outputs": [],
   "source": [
    "#예시 82\n",
    "\n",
    "# 특정 폴더에서 prefix로 시작하는 모든 확장자의 파일 찾기\n",
    "\n",
    "# 아래에 코드를 작성하세요\n",
    "\n",
    "\n",
    "# 특정 폴더에서 폴더에서 prefix로 시작하는 pptx 파일 찾기\n",
    "\n",
    "# 아래에 코드를 작성하세요\n",
    "\n"
   ]
  },
  {
   "cell_type": "code",
   "execution_count": null,
   "metadata": {},
   "outputs": [],
   "source": [
    "#예시 83\n",
    "\n",
    "# 특정 폴더에서 pattern이라는 문자열이 포함된 모든 확장자의 파일 찾기\n",
    "\n",
    "# 아래에 코드를 작성하세요\n",
    "\n",
    "\n",
    "# 특정 폴더에서 pattern이라는 문자열이 포함된 jpg 확장자의 파일 찾기\n",
    "\n",
    "# 아래에 코드를 작성하세요"
   ]
  },
  {
   "cell_type": "code",
   "execution_count": null,
   "metadata": {},
   "outputs": [],
   "source": [
    "#예시 84\n",
    "\n",
    "# 특정 폴더에서 어떠한 한글자 다음 suffix로 끝나는 모든 확장자의 파일 찾기\n",
    "\n",
    "# 아래에 코드를 작성하세요\n",
    "\n",
    "\n",
    "# 특정 폴더에서 어떠한 두글자 다음 suffix로 끝나는 모든 확장자의 파일 찾기\n",
    "\n",
    "# 아래에 코드를 작성하세요\n",
    "\n",
    "\n",
    "# 특정 폴더에서 어떠한 세글자 다음 suffix로 끝나는 모든 확장자의 파일 찾기\n",
    "\n",
    "# 아래에 코드를 작성하세요\n",
    "\n",
    "\n",
    "# 특정 폴더에서 suffix로 끝나는 모든 확장자의 파일 찾기\n",
    "\n",
    "# 아래에 코드를 작성하세요\n",
    "\n"
   ]
  },
  {
   "cell_type": "code",
   "execution_count": null,
   "metadata": {},
   "outputs": [],
   "source": [
    "#예시 85\n",
    "\n",
    "# 특정 폴더에서 한글로 시작하는 모든 확장자의 파일 찾기\n",
    "\n",
    "# 아래에 코드를 작성하세요"
   ]
  },
  {
   "cell_type": "markdown",
   "metadata": {},
   "source": [
    "---\n",
    "###### 개념설명\n",
    "###### Topic 21\n",
    "### shutil 라이브러리를 이용한 파일 및 폴더 제거"
   ]
  },
  {
   "cell_type": "code",
   "execution_count": null,
   "metadata": {},
   "outputs": [],
   "source": [
    "import shutil"
   ]
  },
  {
   "cell_type": "markdown",
   "metadata": {},
   "source": [
    "### shutil을 이용한 파일의 복사 및 이동"
   ]
  },
  {
   "cell_type": "code",
   "execution_count": null,
   "metadata": {},
   "outputs": [],
   "source": [
    "#예시 85\n",
    "\n",
    "# 아래에 코드를 작성하세요"
   ]
  },
  {
   "cell_type": "markdown",
   "metadata": {},
   "source": [
    "### shutil을 이용한 폴더의 복사"
   ]
  },
  {
   "cell_type": "code",
   "execution_count": null,
   "metadata": {},
   "outputs": [],
   "source": [
    "#예시 86\n",
    "\n",
    "# 아래에 코드를 작성하세요"
   ]
  },
  {
   "cell_type": "markdown",
   "metadata": {},
   "source": [
    "### shutil을 이용한 폴더의 삭제\n"
   ]
  },
  {
   "cell_type": "code",
   "execution_count": null,
   "metadata": {},
   "outputs": [],
   "source": [
    "#예시 87\n",
    "\n",
    "# 아래에 코드를 작성하세요"
   ]
  }
 ],
 "metadata": {
  "kernelspec": {
   "display_name": "Python 3 (ipykernel)",
   "language": "python",
   "name": "python3"
  },
  "language_info": {
   "codemirror_mode": {
    "name": "ipython",
    "version": 3
   },
   "file_extension": ".py",
   "mimetype": "text/x-python",
   "name": "python",
   "nbconvert_exporter": "python",
   "pygments_lexer": "ipython3",
   "version": "3.9.13"
  }
 },
 "nbformat": 4,
 "nbformat_minor": 2
}
