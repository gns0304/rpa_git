{
 "cells": [
  {
   "cell_type": "markdown",
   "metadata": {},
   "source": [
    "###### CHAPTER 15\n",
    "# Pandas를 이용한 데이터 처리\n",
    "---\n",
    "###### 개념설명\n",
    "###### Topic 23\n",
    "\n",
    "### Pandas란\n",
    "\n"
   ]
  },
  {
   "cell_type": "code",
   "execution_count": null,
   "metadata": {},
   "outputs": [],
   "source": [
    "!pip install pandas"
   ]
  },
  {
   "cell_type": "markdown",
   "metadata": {},
   "source": [
    "#### pandas를 사용하는 이유"
   ]
  },
  {
   "cell_type": "markdown",
   "metadata": {},
   "source": [
    "###### 개념설명\n",
    "### pandas 라이브러리 불러오기"
   ]
  },
  {
   "cell_type": "code",
   "execution_count": null,
   "metadata": {},
   "outputs": [],
   "source": [
    "import pandas as pd"
   ]
  },
  {
   "cell_type": "markdown",
   "metadata": {},
   "source": [
    "---\n",
    "###### 개념설명\n",
    "###### Topic 24\n",
    "### Series (1차원)"
   ]
  },
  {
   "cell_type": "code",
   "execution_count": null,
   "metadata": {},
   "outputs": [],
   "source": [
    "# 예시 107\n",
    "\n",
    "# 아래에 코드를 작성하세요."
   ]
  },
  {
   "cell_type": "code",
   "execution_count": null,
   "metadata": {},
   "outputs": [],
   "source": [
    "# 예시 108\n",
    "\n",
    "# Series 또한 일반적인 인덱스를 통하여 원소에 접근할 수 있습니다.\n",
    "\n",
    "# 아래에 코드를 작성하세요."
   ]
  },
  {
   "cell_type": "code",
   "execution_count": null,
   "metadata": {},
   "outputs": [],
   "source": [
    "# 예시 109\n",
    "\n",
    "# Series에 인덱스를 지정할 수 있습니다.\n",
    "\n",
    "# 아래에 코드를 작성하세요."
   ]
  },
  {
   "cell_type": "code",
   "execution_count": null,
   "metadata": {},
   "outputs": [],
   "source": [
    "# 예시 110\n",
    "\n",
    "# 새로 지정한 인덱스를 통하여 원소에 접근할 수 있습니다.\n",
    "\n",
    "# 아래에 코드를 작성하세요."
   ]
  },
  {
   "cell_type": "markdown",
   "metadata": {},
   "source": [
    "---\n",
    "###### 개념설명\n",
    "###### Topic 25\n",
    "### DataFrame (2차원)"
   ]
  },
  {
   "cell_type": "code",
   "execution_count": null,
   "metadata": {},
   "outputs": [],
   "source": [
    "# 예시 111\n",
    "\n",
    "# 아래에 코드를 작성하세요."
   ]
  },
  {
   "cell_type": "markdown",
   "metadata": {},
   "source": [
    "#### 알아두기\n",
    "\n",
    "- print()를 사용하지 않으면 가장 마지막 변수에 대해서만 주피터 노트북이 출력합니다.\n",
    "- 훨씬 깔끔하게 데이터프레임을 출력할 수 있습니다."
   ]
  },
  {
   "cell_type": "code",
   "execution_count": null,
   "metadata": {},
   "outputs": [],
   "source": [
    "# 예시 112\n",
    "\n",
    "# 인덱스를 지정하여 데이터프레임을 만들어 봅시다.\n",
    "\n",
    "# 아래에 코드를 작성하세요."
   ]
  },
  {
   "cell_type": "code",
   "execution_count": null,
   "metadata": {},
   "outputs": [],
   "source": [
    "# 예시 113\n",
    "\n",
    "# 칼럼명을 지정하여 데이터프레임을 생성할 수 있습니다.\n",
    "# 데이터프레임으로 만들기 원하는 칼럼만을 선택하여 데이터프레임을 생성할 수 있습니다.\n",
    "\n",
    "# 아래에 코드를 작성하세요."
   ]
  },
  {
   "cell_type": "markdown",
   "metadata": {},
   "source": [
    "###### 개념설명\n",
    "###### Topic 26\n",
    "### csv 파일을 불러오고 저장하기"
   ]
  },
  {
   "cell_type": "code",
   "execution_count": null,
   "metadata": {},
   "outputs": [],
   "source": [
    "# 예시 114\n",
    "\n",
    "# csv로 저장하기 위해서 to_csv()를 이용합니다.\n",
    "\n",
    "# 아래에 코드를 작성하세요.\n",
    "\n",
    "\n",
    "# 인덱스를 포함하지 않기 위해서 index=False를 설정합니다.\n",
    "\n",
    "# 아래에 코드를 작성하세요."
   ]
  },
  {
   "cell_type": "code",
   "execution_count": null,
   "metadata": {},
   "outputs": [],
   "source": [
    "# 예시 115\n",
    "\n",
    "# xlsx으로 저장하기 위해서 to_excel()를 이용합니다.\n",
    "\n",
    "# 아래에 코드를 작성하세요.\n",
    "\n",
    "\n",
    "# 인덱스를 포함하지 않기 위해서 index=False를 설정합니다.\n",
    "\n",
    "# 아래에 코드를 작성하세요."
   ]
  },
  {
   "cell_type": "code",
   "execution_count": null,
   "metadata": {},
   "outputs": [],
   "source": [
    "# 예시 116\n",
    "\n",
    "# xlsx 파일을 열기 위해서 read_excel()을 이용합니다.\n",
    "# 인덱스로 사용할 행을 index_col을 통해서 0부터 시작하는 순서(int) 혹은 열의 이름(str)으로 지정할 수 있습니다.\n",
    "\n",
    "# 아래에 코드를 작성하세요."
   ]
  },
  {
   "cell_type": "markdown",
   "metadata": {},
   "source": [
    "###### 개념설명\n",
    "###### Topic 27\n",
    "### 데이터프레임의 속성 알아보기"
   ]
  },
  {
   "cell_type": "code",
   "execution_count": null,
   "metadata": {},
   "outputs": [],
   "source": [
    "# 예시 117\n",
    "\n",
    "# csv 파일을 읽어서 데이터프레임을 생성하겠습니다.\n",
    "\n",
    "# 아래에 코드를 작성하세요."
   ]
  },
  {
   "cell_type": "code",
   "execution_count": null,
   "metadata": {},
   "outputs": [],
   "source": [
    "# 예시 118\n",
    "\n",
    "# shape 속성을 통하여 행과 열의 개수를 확인할 수 있습니다.\n",
    "\n",
    "# 아래에 코드를 작성하세요."
   ]
  },
  {
   "cell_type": "code",
   "execution_count": null,
   "metadata": {},
   "outputs": [],
   "source": [
    "# 예시 119\n",
    "\n",
    "# head() 함수를 사용하면 데이터프레임의 앞부분을 출력할 수 있습니다.\n",
    "# head()의 기본값은 5입니다.\n",
    "# head()의 인자로 출력할 행의 개수를 지정할 수 있습니다.\n",
    "\n",
    "# 아래에 코드를 작성하세요."
   ]
  },
  {
   "cell_type": "code",
   "execution_count": null,
   "metadata": {},
   "outputs": [],
   "source": [
    "# 예시 120\n",
    "\n",
    "# tail() 함수를 사용하면 데이터프레임의 뒷부분을 출력할 수 있습니다.\n",
    "# tail()의 기본값은 5입니다.\n",
    "# tail()의 인자로 출력할 행의 개수를 지정할 수 있습니다.\n",
    "\n",
    "# 아래에 코드를 작성하세요."
   ]
  },
  {
   "cell_type": "code",
   "execution_count": null,
   "metadata": {},
   "outputs": [],
   "source": [
    "# 예시 121\n",
    "\n",
    "# describe() 함수를 통하여 계산이 가능한 데이터에 대해서 각 열에 대한 요약을 출력할 수 있습니다.\n",
    "\n",
    "# 아래에 코드를 작성하세요."
   ]
  },
  {
   "cell_type": "code",
   "execution_count": null,
   "metadata": {},
   "outputs": [],
   "source": [
    "# 예시 122\n",
    "\n",
    "# info() 함수를 통하여 데이터 프레임을 요약할 수 있습니다.\n",
    "\n",
    "# 아래에 코드를 작성하세요."
   ]
  },
  {
   "cell_type": "code",
   "execution_count": null,
   "metadata": {},
   "outputs": [],
   "source": [
    "# 예시 123\n",
    "\n",
    "# 위 describe()와 info()는 특정 열에 대해서도 사용할 수 있습니다.\n",
    "\n",
    "# 아래에 코드를 작성하세요."
   ]
  },
  {
   "cell_type": "code",
   "execution_count": null,
   "metadata": {},
   "outputs": [],
   "source": [
    "# 예시 124\n",
    "\n",
    "# 다음은 데이터에 대한 몇가지 함수를 설명합니다.\n",
    "\n",
    "# 해당 열의 최대값\n",
    "\n",
    "# 아래에 코드를 작성하세요.\n",
    "\n",
    "\n",
    "# 해당 열의 최소값\n",
    "\n",
    "# 아래에 코드를 작성하세요.\n",
    "\n",
    "\n",
    "# 해당 열의 합\n",
    "\n",
    "# 아래에 코드를 작성하세요.\n",
    "\n",
    "\n",
    "# 해당 열의 평균\n",
    "\n",
    "# 아래에 코드를 작성하세요.\n",
    "\n",
    "\n",
    "# 최상위 N개의 데이터를 출력합니다.\n",
    "\n",
    "# 아래에 코드를 작성하세요.\n",
    "\n",
    "\n",
    "# 최하위 N개의 데이터를 출력합니다.\n",
    "\n",
    "# 아래에 코드를 작성하세요.\n",
    "\n",
    "\n",
    "# 해당 열의 데이터 고유값을 출력합니다.\n",
    "\n",
    "# 아래에 코드를 작성하세요\n",
    "\n",
    "\n",
    "# 해당 열의 데이터 고유값의 개수를 출력합니다.\n",
    "\n",
    "# 아래에 코드를 작성하세요."
   ]
  },
  {
   "cell_type": "markdown",
   "metadata": {},
   "source": [
    "---\n",
    "###### 개념설명\n",
    "###### Topic 28\n",
    "### 데이터프레임에서 행 및 열 선택하기 (1) : 인덱싱 및 슬라이싱"
   ]
  },
  {
   "cell_type": "code",
   "execution_count": null,
   "metadata": {},
   "outputs": [],
   "source": [
    "# 예시 125\n",
    "\n",
    "# 데이터 프레임에서 열의 인덱스(열의 이름)를 기입하여 해당 열을 선택할 수 있습니다.\n",
    "\n",
    "# 아래에 코드를 작성하세요."
   ]
  },
  {
   "cell_type": "code",
   "execution_count": null,
   "metadata": {},
   "outputs": [],
   "source": [
    "# 예시 126\n",
    "\n",
    "# 데이터 프레임에서 각각의 열의 인덱스(열의 이름)를 기입하여 여러 열들을 선택할 수 있습니다.\n",
    "\n",
    "# 아래에 코드를 작성하세요."
   ]
  },
  {
   "cell_type": "code",
   "execution_count": null,
   "metadata": {},
   "outputs": [],
   "source": [
    "# 예시 127\n",
    "\n",
    "# 데이터 프레임에서 각각의 열에 대해서 슬라이싱을 통하여 여러 열들을 선택할 수 있습니다.\n",
    "\n"
   ]
  },
  {
   "cell_type": "code",
   "execution_count": null,
   "metadata": {},
   "outputs": [],
   "source": [
    "# 예시 128\n",
    "\n",
    "# 인덱스를 통하여 행을 선택할 수 있습니다.\n",
    "\n",
    "# 아래에 코드를 작성하세요."
   ]
  },
  {
   "cell_type": "code",
   "execution_count": null,
   "metadata": {},
   "outputs": [],
   "source": [
    "# 예시 129\n",
    "\n",
    "# 슬라이싱을 통하여 행을 선택할 수 있습니다.\n",
    "\n",
    "# 아래에 코드를 작성하세요."
   ]
  },
  {
   "cell_type": "markdown",
   "metadata": {},
   "source": [
    "---\n",
    "###### Topic 29\n",
    "### Column과 Index 다루기"
   ]
  },
  {
   "cell_type": "code",
   "execution_count": null,
   "metadata": {},
   "outputs": [],
   "source": [
    "# 예시 130\n",
    "\n",
    "# columns 속성을 통하여 칼럼(열)의 이름들을 확인할 수 있습니다.\n",
    "\n",
    "# 아래에 코드를 작성하세요."
   ]
  },
  {
   "cell_type": "code",
   "execution_count": null,
   "metadata": {},
   "outputs": [],
   "source": [
    "# 예시 131\n",
    "\n",
    "# index 속성을 통하여 인덱스(행)을 확인할 수 있습니다.\n",
    "\n",
    "# 아래에 코드를 작성하세요."
   ]
  },
  {
   "cell_type": "code",
   "execution_count": null,
   "metadata": {},
   "outputs": [],
   "source": [
    "# 예시 132\n",
    "\n",
    "# set_index()를 통하여 index로 사용할 column을 지정할 수 있습니다.\n",
    "# 이를 원래 데이터프레임에 적용하려면 inplace=True를 지정해야 합니다.\n",
    "\n",
    "# 아래에 코드를 작성하세요."
   ]
  },
  {
   "cell_type": "code",
   "execution_count": null,
   "metadata": {},
   "outputs": [],
   "source": [
    "# 예시 133\n",
    "\n",
    "# sort_index()를 통하여 index를 기준으로 정렬할 수 있습니다.\n",
    "# 이를 원래 데이터프레임에 적용하려면 inplace=True를 지정해야 합니다.\n",
    "\n",
    "# 아래에 코드를 작성하세요."
   ]
  },
  {
   "cell_type": "code",
   "execution_count": null,
   "metadata": {},
   "outputs": [],
   "source": [
    "# 예시 134\n",
    "\n",
    "# sort_index(ascending=False)를 통하여 index를 기준으로 내림차순 정렬할 수 있습니다.\n",
    "# 이를 원래 데이터프레임에 적용하려면 inplace=True를 지정해야 합니다.\n",
    "\n",
    "# 아래에 코드를 작성하세요."
   ]
  },
  {
   "cell_type": "code",
   "execution_count": null,
   "metadata": {},
   "outputs": [],
   "source": [
    "# 예시 135\n",
    "\n",
    "# rename(columns={})을 통하여 특정 칼럼의 이름을 수정할 수 있습니다.\n",
    "# 이때 수정하고자 하는 칼럼의 이름을 key로, 수정하고자 하는 이름을 value로 하는 딕셔너리를 인자로 넣습니다.\n",
    "# 이를 원래 데이터프레임에 적용하려면 inplace=True를 지정해야 합니다.\n",
    "\n",
    "# 아래에 코드를 작성하세요."
   ]
  },
  {
   "cell_type": "code",
   "execution_count": null,
   "metadata": {},
   "outputs": [],
   "source": [
    "# 예시 136\n",
    "\n",
    "# rename(index={})을 통하여 특정 인덱스의 이름을 수정할 수 있습니다.\n",
    "# 이때 수정하고자 하는 인덱스의 이름을 key로, 수정하고자 하는 이름을 value로 하는 딕셔너리를 인자로 넣습니다.\n",
    "# 이를 원래 데이터프레임에 적용하려면 inplace=True를 지정해야 합니다.\n",
    "\n",
    "# 아래에 코드를 작성하세요."
   ]
  },
  {
   "cell_type": "code",
   "execution_count": null,
   "metadata": {},
   "outputs": [],
   "source": [
    "# 예시 137\n",
    "\n",
    "# index의 name 속성을 통하여 인덱스 열의 이름도 변경할 수 있습니다.\n",
    "\n",
    "# 아래에 코드를 작성하세요."
   ]
  },
  {
   "cell_type": "code",
   "execution_count": null,
   "metadata": {},
   "outputs": [],
   "source": [
    "# 예시 138\n",
    "\n",
    "# reset_index()를 사용하면 인덱스를 다시 0부터 시작하는 정수로 구성된 인덱스로 초기화할 수 있습니다.\n",
    "# 이를 원래 데이터프레임에 적용하려면 inplace=True를 지정해야 합니다.\n",
    "\n",
    "# 아래에 코드를 작성하세요."
   ]
  },
  {
   "cell_type": "markdown",
   "metadata": {},
   "source": [
    "---\n",
    "###### Topic 30\n",
    "### 행과 열 제거하기"
   ]
  },
  {
   "cell_type": "code",
   "execution_count": null,
   "metadata": {},
   "outputs": [],
   "source": [
    "# 예시 139\n",
    "\n",
    "# drop()을 통하여 행을 삭제할 수 있습니다.\n",
    "# 기본 axis=0이므로 axis=0을 지정하지 않아도 됩니다.\n",
    "# 이를 원래 데이터프레임에 적용하려면 inplace=True를 지정해야 합니다.\n",
    "\n",
    "# 아래에 코드를 작성하세요."
   ]
  },
  {
   "cell_type": "code",
   "execution_count": null,
   "metadata": {},
   "outputs": [],
   "source": [
    "# 예시 140\n",
    "\n",
    "# drop(axis=1)을 통하여 열을 삭제할 수 있습니다.\n",
    "# 열의 이름 또는 열의 인덱스를 통하여 삭제할 수 있습니다.\n",
    "# 이를 원래 데이터프레임에 적용하려면 inplace=True를 지정해야 합니다.\n",
    "\n",
    "# 아래에 코드를 작성하세요."
   ]
  },
  {
   "cell_type": "markdown",
   "metadata": {},
   "source": [
    "###### 개념설명\n",
    "###### Topic 31\n",
    "### 데이터프레임에서 행 및 열 선택하기 (2) : loc"
   ]
  },
  {
   "cell_type": "code",
   "execution_count": null,
   "metadata": {},
   "outputs": [],
   "source": [
    "# 예시 141\n",
    "\n",
    "# 다른 데이터프레임을 불러오도록 하겠습니다.\n",
    "\n",
    "# 아래에 코드를 작성하세요."
   ]
  },
  {
   "cell_type": "code",
   "execution_count": null,
   "metadata": {},
   "outputs": [],
   "source": [
    "# 예시 142\n",
    "\n",
    "# 인덱스 이름을 이용하여 행을 선택할 수 있습니다.\n",
    "\n",
    "# 아래에 코드를 작성하세요."
   ]
  },
  {
   "cell_type": "code",
   "execution_count": null,
   "metadata": {},
   "outputs": [],
   "source": [
    "# 예시 143\n",
    "\n",
    "# 인덱스 이름과 칼럼 이름을 이용하여 행과 열에 대한 데이터를 선택할 수 있습니다.\n",
    "\n",
    "# 아래에 코드를 작성하세요."
   ]
  },
  {
   "cell_type": "code",
   "execution_count": null,
   "metadata": {},
   "outputs": [],
   "source": [
    "# 예시 144\n",
    "\n",
    "# 인덱스 이름과 칼럼 이름을 이용하여 행과 열에 대한 데이터를 선택할 수 있습니다.\n",
    "# 각 요소를 쉼표로 구분하여 여러 인덱스 이름과 칼럼 이름을 선택할 수 있습니다.\n",
    "\n",
    "# 아래에 코드를 작성하세요."
   ]
  },
  {
   "cell_type": "code",
   "execution_count": null,
   "metadata": {},
   "outputs": [],
   "source": [
    "# 예시 145\n",
    "\n",
    "# 인덱스 이름과 칼럼 이름을 이용하여 행과 열에 대한 데이터를 선택할 수 있습니다.\n",
    "# 각 요소의 이름을 슬라이싱하여 사용할 수 있습니다.\n",
    "# 다만, 파이썬 리스트 슬라이싱과 달리, 끝 요소의 직전 요소까지가 아닌 끝 요소를 포함합니다.\n",
    "\n",
    "# 아래에 코드를 작성하세요."
   ]
  },
  {
   "cell_type": "markdown",
   "metadata": {},
   "source": [
    "###### 개념설명\n",
    "###### Topic 32\n",
    "### 데이터프레임에서 행 및 열 선택하기 (3) : iloc"
   ]
  },
  {
   "cell_type": "code",
   "execution_count": null,
   "metadata": {},
   "outputs": [],
   "source": [
    "# 예시 146\n",
    "\n",
    "# iloc 속성을 이용하여 행을 선택할 수 있습니다.\n",
    "\n",
    "# 아래에 코드를 작성하세요."
   ]
  },
  {
   "cell_type": "code",
   "execution_count": null,
   "metadata": {},
   "outputs": [],
   "source": [
    "# 예시 147\n",
    "\n",
    "# iloc 속성에서 슬라이싱을 이용하여 행을 선택할 수 있습니다.\n",
    "# loc에서의 슬라이싱과 달리 파이썬 리스트 슬라이싱처럼 끝 요소의 직전 요소까지 선택합니다.\n",
    "\n",
    "# 아래에 코드를 작성하세요."
   ]
  },
  {
   "cell_type": "code",
   "execution_count": null,
   "metadata": {},
   "outputs": [],
   "source": [
    "# 예시 148\n",
    "\n",
    "# iloc 속성에서 첫번째 요소는 행, 두번째 요소는 열 입니다.\n",
    "# 이는 인덱스 이름 또는 칼럼 이름과는 상관없이 오직 0부터 시작하는 순서를 의미합니다.\n",
    "\n",
    "# 인덱스 7행 (서울 도심부), 칼럼 마지막열의 데이터\n",
    "\n",
    "# 아래에 코드를 작성하세요."
   ]
  },
  {
   "cell_type": "code",
   "execution_count": null,
   "metadata": {},
   "outputs": [],
   "source": [
    "# 예시 149\n",
    "\n",
    "# iloc에서도 각 요소를 쉼표로 구분하여 여러 인덱스 이름과 칼럼 이름을 선택할 수 있습니다.\n",
    "\n",
    "# 인덱스 9행, 10행 (서울 서북권, 서울 서남권), 0열에서 12열까지의 데이터\n",
    "\n",
    "# 아래에 코드를 작성하세요."
   ]
  },
  {
   "cell_type": "markdown",
   "metadata": {},
   "source": [
    "###### 개념설명\n",
    "###### Topic 33\n",
    "### 데이터프레임에서 조건에 따라 행 선택하기\n",
    "\n",
    "#### 불린 인덱싱 (Boolean Indexing)"
   ]
  },
  {
   "cell_type": "code",
   "execution_count": null,
   "metadata": {},
   "outputs": [],
   "source": [
    "# 예시 150\n",
    "\n",
    "# 아래에 코드를 작성하세요."
   ]
  },
  {
   "cell_type": "code",
   "execution_count": null,
   "metadata": {},
   "outputs": [],
   "source": [
    "# 예시 151\n",
    "\n",
    "# 가장 최신 월에서 증감률이 100 이하인 행 선택 하기\n",
    "\n",
    "# 아래에 코드를 작성하세요."
   ]
  },
  {
   "cell_type": "code",
   "execution_count": null,
   "metadata": {},
   "outputs": [],
   "source": [
    "# 예시 152\n",
    "\n",
    "# 위에서 기준이 된 2023-02 열만 선택 하기\n",
    "\n",
    "# 아래에 코드를 작성하세요."
   ]
  },
  {
   "cell_type": "markdown",
   "source": [
    "###### 개념설명\n",
    "###### Topic 34\n",
    "### 데이터프레임에서 중복값 및 결측치 제거하기"
   ],
   "metadata": {
    "collapsed": false
   }
  },
  {
   "cell_type": "code",
   "execution_count": null,
   "outputs": [],
   "source": [
    "# 예시 153\n",
    "\n",
    "# 중복 여부를 확인할 때에는 duplicated() 메소드를 사용합니다.\n",
    "\n",
    "# 아래에 코드를 작성하세요."
   ],
   "metadata": {
    "collapsed": false
   }
  },
  {
   "cell_type": "code",
   "execution_count": null,
   "outputs": [],
   "source": [
    "# 예시 154\n",
    "\n",
    "# 중복값을 제거할 때는 drop_duplicates() 메소드를 사용합니다.\n",
    "\n",
    "# 아래에 코드를 작성하세요."
   ],
   "metadata": {
    "collapsed": false
   }
  },
  {
   "cell_type": "code",
   "execution_count": null,
   "outputs": [],
   "source": [
    "# 예시 155\n",
    "\n",
    "# 결측치 여부를 확인할 때에는 isnull() 메소드를 사용합니다.\n",
    "\n",
    "# 아래에 코드를 작성하세요."
   ],
   "metadata": {
    "collapsed": false
   }
  },
  {
   "cell_type": "code",
   "execution_count": null,
   "outputs": [],
   "source": [
    "# 예시 156\n",
    "\n",
    "# 결측치(Nan)가 포함된 행을 삭제하기 위해서는 dropna() 메소드를 사용합니다.\n",
    "\n",
    "# 아래에 코드를 작성하세요."
   ],
   "metadata": {
    "collapsed": false
   }
  },
  {
   "cell_type": "code",
   "execution_count": null,
   "outputs": [],
   "source": [
    "# 예시 157\n",
    "\n",
    "# 결측치(Nan)가 포함된 열을 삭제하기 위해서는 dropna(axis=1) 메소드를 사용합니다.\n",
    "\n",
    "# 아래에 코드를 작성하세요."
   ],
   "metadata": {
    "collapsed": false
   }
  },
  {
   "cell_type": "code",
   "execution_count": null,
   "outputs": [],
   "source": [
    "# 예시 158\n",
    "\n",
    "# 기본적으로 dropna()는 하나라도 결측치가 있으면 행 또는 열을 삭제합니다.\n",
    "# 해당 행에 대해서 모든 열이 결측치인 경우에만 삭제를 원한다면 how='all' 옵션을 사용합니다.\n",
    "\n",
    "# 아래에 코드를 작성하세요."
   ],
   "metadata": {
    "collapsed": false
   }
  },
  {
   "cell_type": "code",
   "execution_count": null,
   "outputs": [],
   "source": [
    "# 예시 159\n",
    "\n",
    "# 결측치를 삭제하지 않고 다른 값으로 대체하고 싶다면 fillna() 메소드를 사용합니다.\n",
    "\n",
    "# 아래에 코드를 작성하세요."
   ],
   "metadata": {
    "collapsed": false
   }
  }
 ],
 "metadata": {
  "kernelspec": {
   "display_name": "Python 3 (ipykernel)",
   "language": "python",
   "name": "python3"
  },
  "language_info": {
   "codemirror_mode": {
    "name": "ipython",
    "version": 3
   },
   "file_extension": ".py",
   "mimetype": "text/x-python",
   "name": "python",
   "nbconvert_exporter": "python",
   "pygments_lexer": "ipython3",
   "version": "3.9.13"
  }
 },
 "nbformat": 4,
 "nbformat_minor": 2
}
