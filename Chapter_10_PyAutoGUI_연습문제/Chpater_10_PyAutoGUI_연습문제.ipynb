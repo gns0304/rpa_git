{
 "cells": [
  {
   "cell_type": "markdown",
   "metadata": {},
   "source": [
    "###### CHAPTER 10\n",
    "# PyAutoGUI : 연습문제\n",
    "---\n",
    "\n",
    "###### 연습07\n",
    "\n",
    "### 실습 사이트를 접속하여 아래의 태스크를 수행하세요.\n",
    "\n",
    "- 인터넷 브라우저를 열어 주어진 사이트에 접속합니다.\n",
    "- 접속 후 나타나는 팝업창에서 취소 버튼을 클릭합니다.\n",
    "- 이어서 나타나는 경고창에서 닫기 버튼을 클릭합니다.\n",
    "- 페이지 하단에 ID와 PW 텍스트 박스에 각각 입력합니다. \n",
    "- <u><b>반드시, 테스트 사이트이므로 실제 정보를 입력하지 마십시오. 개인정보 유출의 위험이 있습니다.</b></u>\n",
    "- 입력 후 Login 버튼을 클릭합니다."
   ]
  },
  {
   "cell_type": "code",
   "execution_count": 1,
   "outputs": [],
   "source": [
    "# 아래에 코드를 작성하세요"
   ],
   "metadata": {
    "collapsed": false
   }
  }
 ],
 "metadata": {
  "kernelspec": {
   "display_name": "Python 3 (ipykernel)",
   "language": "python",
   "name": "python3"
  },
  "language_info": {
   "codemirror_mode": {
    "name": "ipython",
    "version": 3
   },
   "file_extension": ".py",
   "mimetype": "text/x-python",
   "name": "python",
   "nbconvert_exporter": "python",
   "pygments_lexer": "ipython3",
   "version": "3.9.13"
  }
 },
 "nbformat": 4,
 "nbformat_minor": 1
}
