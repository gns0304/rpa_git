{
 "cells": [
  {
   "cell_type": "markdown",
   "metadata": {},
   "source": [
    "###### CHAPTER 14\n",
    "# Pillow를 이용한 이미지 자동화 : 연습문제\n",
    "---\n",
    "###### 연습 10\n",
    "### 다음의 함수를 이용하여 폴더 내 모든 고양이 사진에 대하여 고양이의 얼굴만을 잘라내어 저장하는 프로그램을 작성하시기 바랍니다.\n",
    "\n",
    "#### 조건\n",
    "- ./src/Cat에 있는 모든 이미지 파일에 대하여 수행되어야 합니다.\n",
    "- 수행된 파일은 ./src/CatFace에 저장되어야 합니다.\n",
    "- 저장 파일의 이름은 원본 파일의 이름에 _front를 붙여야 합니다. 예를 들어 cat01.jpg의 경우 cat01_front.jpg로 저장되어야 합니다.\n",
    "- 함수의 docstring을 반드시 확인하시기 바랍니다.\n",
    "\n",
    "#### 추가정보\n",
    "- 만들어져 있는 detect_cat_face()함수는 HaarCascade를 이용한 고양이 얼굴 탐지 함수입니다.\n",
    "\n",
    "- HaarCascade는 OpenCV에서 제공하는 머신러닝 기반의 이미지 분류 알고리즘입니다.\n",
    "- OpenCV는 파이썬으로 구현된 컴퓨터 비전 및 머신러닝 라이브러리입니다.\n",
    "\n",
    "- HaarCascade를 이용하면 이미지에서 얼굴, 눈, 고양이 얼굴 등을 탐지할 수 있습니다.\n",
    "- HaarCascade는 이미지에서 특정 패턴을 찾아내는 알고리즘입니다.\n",
    "\n"
   ]
  },
  {
   "cell_type": "code",
   "execution_count": null,
   "metadata": {
    "collapsed": true
   },
   "outputs": [],
   "source": [
    "# 아래 코드를 최초 1회 이상 실행시켜 주세요.\n",
    "\n",
    "!pip install opencv-python\n",
    "\n",
    "import os\n",
    "import cv2\n",
    "\n",
    "def detect_cat_face(image_file):\n",
    "    \"\"\"\n",
    "    미리 지정된 고양이 얼굴을 탐지하는 함수입니다.\n",
    "\n",
    "    :param image_file: 고양이 얼굴을 탐지할 해당 이미지 파일 경로\n",
    "    :return: 모든 고양이 얼굴의 좌표의 리스트를 반환합니다.\n",
    "    리스트인[x, y, w, h] 형태의 좌표로 구성된 중첩 리스트입니다.\n",
    "    \"\"\"\n",
    "\n",
    "    cascade_file = \"./src/HaarCascade/haarcascade_frontalcatface_extended.xml\"\n",
    "    cascade = cv2.CascadeClassifier(cascade_file)\n",
    "\n",
    "    img = cv2.imread(image_file)\n",
    "    img_gray = cv2.cvtColor(img, cv2.COLOR_BGR2GRAY)\n",
    "    cat_faces = cascade.detectMultiScale(img_gray)\n",
    "\n",
    "    return_list = list()\n",
    "\n",
    "    for x, y, w, h in cat_faces:\n",
    "        return_list.append([x, y, w, h])\n",
    "\n",
    "    return return_list"
   ]
  },
  {
   "cell_type": "code",
   "execution_count": null,
   "metadata": {},
   "outputs": [],
   "source": [
    "from PIL import Image, ImageFilter\n",
    "\n",
    "cat_images = os.listdir(\"./src/Cat/\")\n",
    "\n",
    "# 아래에 코드를 작성하세요"
   ]
  }
 ],
 "metadata": {
  "kernelspec": {
   "display_name": "Python 3 (ipykernel)",
   "language": "python",
   "name": "python3"
  },
  "language_info": {
   "codemirror_mode": {
    "name": "ipython",
    "version": 3
   },
   "file_extension": ".py",
   "mimetype": "text/x-python",
   "name": "python",
   "nbconvert_exporter": "python",
   "pygments_lexer": "ipython3",
   "version": "3.9.13"
  }
 },
 "nbformat": 4,
 "nbformat_minor": 1
}
