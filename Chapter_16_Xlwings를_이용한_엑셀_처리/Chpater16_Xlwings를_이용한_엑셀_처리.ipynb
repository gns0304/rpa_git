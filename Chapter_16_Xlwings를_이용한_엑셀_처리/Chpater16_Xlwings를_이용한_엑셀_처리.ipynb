{
 "cells": [
  {
   "cell_type": "markdown",
   "metadata": {},
   "source": [
    "###### CHAPTER 16\n",
    "# Xlwings를 이용한 엑셀 처리\n",
    "---\n",
    "###### 개념설명\n",
    "###### Topic 35\n",
    "\n",
    "### Xlwings란"
   ]
  },
  {
   "cell_type": "code",
   "execution_count": 1,
   "metadata": {},
   "outputs": [],
   "source": [
    "!pip install xlwings"
   ]
  },
  {
   "cell_type": "code",
   "execution_count": 2,
   "metadata": {},
   "outputs": [],
   "source": [
    "# xlwings 또한 별칭을 이용하여 라이브러리를 import 합니다.\n",
    "\n",
    "import xlwings as xw"
   ]
  },
  {
   "cell_type": "markdown",
   "metadata": {},
   "source": [
    "---\n",
    "###### 개념설명\n",
    "###### Topic 36\n",
    "#### Workbook, Sheet에 대해서"
   ]
  },
  {
   "cell_type": "code",
   "execution_count": 3,
   "metadata": {},
   "outputs": [],
   "source": [
    "# 예시 160\n",
    "\n",
    "# 빈 엑셀 워크북(파일)을 만듭니다.\n",
    "# 실행하게 되면, 엑셀이 자동적으로 실행되며, 빈 통합 문서가 생성됩니다.\n",
    "\n",
    "# 아래에 코드를 작성하세요.\n"
   ]
  },
  {
   "cell_type": "code",
   "execution_count": 4,
   "metadata": {},
   "outputs": [],
   "source": [
    "# 예시 161\n",
    "\n",
    "# 해당 파일에서 sheets 속성을 통하여 시트를 조회할 수 있습니다.\n",
    "\n",
    "# 아래에 코드를 작성하세요\n"
   ]
  },
  {
   "cell_type": "code",
   "execution_count": 5,
   "metadata": {},
   "outputs": [],
   "source": [
    "# 예시 162\n",
    "\n",
    "# sheets 속성의 add를 통하여 시트를 추가할 수 있습니다.\n",
    "# 실행 후 엑셀 프로그램에서 새로운 시트가 추가된 것을 확인할 수 있습니다.\n",
    "# 시트는 맨 앞에 추가됩니다.\n",
    "\n",
    "# 아래에 코드를 작성하세요\n",
    "\n"
   ]
  },
  {
   "cell_type": "code",
   "execution_count": 6,
   "metadata": {},
   "outputs": [],
   "source": [
    "# 예시 163\n",
    "\n",
    "# 특정 위치를 기준으로 시트를 삽입할 수도 있습니다.\n",
    "# 위치를 시트의 이름 또는 시트의 인덱스로 지정할 수 있습니다.\n",
    "\n",
    "# 시트 또한 인덱스를 통하여 조회할 수 있습니다.\n",
    "\n",
    "\n",
    "\n",
    "# 아래에 코드를 작성하세요\n",
    "\n"
   ]
  },
  {
   "cell_type": "code",
   "execution_count": 7,
   "metadata": {},
   "outputs": [],
   "source": [
    "# 예시 164\n",
    "\n",
    "# 파이썬의 len 함수를 통하여 시트의 개수를 조회할 수 있습니다.\n",
    "\n",
    "# 아래에 코드를 작성하세요\n",
    "\n"
   ]
  },
  {
   "cell_type": "code",
   "execution_count": 8,
   "metadata": {},
   "outputs": [],
   "source": [
    "# 예시 165\n",
    "\n",
    "# sheet_names 속성을 이용하여 시트의 이름을 조회할 수 있습니다.\n",
    "# 설치된 xlwings의 버전에 따라 지원하지 않을 수 있습니다.\n",
    "\n",
    "# 아래에 코드를 작성하세요\n",
    "\n",
    "\n",
    "# 지원되지 않을 경우 아래와 같은 방법으로 조회합니다.\n",
    "\n",
    "# 아래에 코드를 작성하세요\n",
    "\n"
   ]
  },
  {
   "cell_type": "code",
   "execution_count": 9,
   "metadata": {},
   "outputs": [],
   "source": [
    "# 예시 166\n",
    "\n",
    "# 시트의 이름을 변경할 수 있습니다.\n",
    "\n",
    "# 아래에 코드를 작성하세요\n",
    "\n"
   ]
  },
  {
   "cell_type": "code",
   "execution_count": 10,
   "metadata": {},
   "outputs": [],
   "source": [
    "# 예시 167\n",
    "\n",
    "# 시트를 삭제할 수 있습니다.\n",
    "\n",
    "# 아래에 코드를 작성하세요\n",
    "\n"
   ]
  },
  {
   "cell_type": "code",
   "execution_count": 11,
   "metadata": {},
   "outputs": [],
   "source": [
    "# 예시 168\n",
    "\n",
    "# 특정 시트를 선택하여 작업하는 상황을 가정해봅시다.\n",
    "# 특정 시트를 선택하기 위하여 아래와 같이 코드를 작성할 수 있습니다.\n",
    "# 실행 후 엑셀 프로그램에서 해당 시트로 화면이 전환됩니다.\n",
    "\n",
    "# 아래에 코드를 작성하세요\n",
    "\n"
   ]
  },
  {
   "cell_type": "code",
   "execution_count": 12,
   "metadata": {},
   "outputs": [],
   "source": [
    "# 예시 169\n",
    "\n",
    "# 통합 문서를 저장하고 닫기 위해서는 Workbook 객체의 save 메서드와 close 메서드를 사용합니다.\n",
    "\n",
    "# 아래에 코드를 작성하세요\n",
    "\n"
   ]
  },
  {
   "cell_type": "markdown",
   "metadata": {},
   "source": [
    "---\n",
    "###### 예제 05\n",
    "\n",
    "### 새로운 통합 문서를 생성한 뒤, 2000년부터 2023년까지의 각 연도별 시트를 생성하여 봅시다.\n",
    "\n",
    "#### 조건\n",
    "\n",
    "- 처음에 존재하는 Sheet1을 삭제하시기 바랍니다."
   ]
  },
  {
   "cell_type": "code",
   "execution_count": 13,
   "metadata": {},
   "outputs": [],
   "source": [
    "# 예제 05\n",
    "\n",
    "# 아래에 코드를 작성하세요.\n",
    "\n"
   ]
  },
  {
   "cell_type": "markdown",
   "metadata": {},
   "source": [
    "---\n",
    "###### 개념설명\n",
    "###### Topic 37\n",
    "\n",
    "### 시트에서 데이터 조작하기"
   ]
  },
  {
   "cell_type": "markdown",
   "metadata": {},
   "source": []
  },
  {
   "cell_type": "code",
   "execution_count": 14,
   "metadata": {},
   "outputs": [],
   "source": [
    "# 예시 170\n",
    "\n",
    "# 기존의 파일을 불러와, 작업할 시트를 선택해 봅시다.\n",
    "\n",
    "# 아래에 코드를 작성하세요\n",
    "\n",
    "\n"
   ]
  },
  {
   "cell_type": "code",
   "execution_count": 15,
   "metadata": {},
   "outputs": [],
   "source": [
    "# 예시 171\n",
    "\n",
    "# 셀 하나를 선택하여 봅시다.\n",
    "\n",
    "# 아래에 코드를 작성하세요\n",
    "\n"
   ]
  },
  {
   "cell_type": "code",
   "execution_count": 16,
   "metadata": {},
   "outputs": [],
   "source": [
    "# 예시 172\n",
    "\n",
    "# 셀에 대한 각 속성을 확인하여 봅시다.\n",
    "\n",
    "# 아래에 코드를 작성하세요\n",
    "\n",
    "\n",
    "\n",
    "# 특정 셀의 값을 확인하기 위해서 value 속성을 사용합니다.\n",
    "\n",
    "# 아래에 코드를 작성하세요\n",
    "\n",
    "\n",
    "\n",
    "# 연속된 셀의 값을 확인할 수도 있습니다.\n",
    "\n",
    "# 아래에 코드를 작성하세요\n",
    "\n",
    "\n",
    "# 특정 셀의 값을 변경하기 위해서도 value 속성을 사용합니다.\n",
    "\n",
    "# 아래에 코드를 작성하세요\n",
    "\n"
   ]
  },
  {
   "cell_type": "code",
   "execution_count": 17,
   "metadata": {},
   "outputs": [],
   "source": [
    "# 예시 173\n",
    "\n",
    "# 특정 셀로부터 가로 방향으로 한번에 값을 나열하기 위해서 값을 리스트로 지정합니다.\n",
    "\n",
    "# 아래에 코드를 작성하세요\n",
    "\n"
   ]
  },
  {
   "cell_type": "code",
   "execution_count": 18,
   "metadata": {},
   "outputs": [],
   "source": [
    "# 예시 174\n",
    "\n",
    "# 특정 셀로부터 세로 방향으로 한번에 값을 나열하기 위해서는 값을 리스트로 지정한 뒤\n",
    "# options 메서드의 transpose 인자를 사용합니다.\n",
    "\n",
    "# 아래에 코드를 작성하세요\n",
    "\n"
   ]
  },
  {
   "cell_type": "code",
   "execution_count": 19,
   "metadata": {},
   "outputs": [],
   "source": [
    "# 예시 175\n",
    "\n",
    "# 하나의 셀이 아닌 드래그 하는 것처럼 여러 셀을 한번에 선택할 수 있습니다.\n",
    "\n",
    "# 아래에 코드를 작성하세요\n",
    "\n"
   ]
  },
  {
   "cell_type": "code",
   "execution_count": 20,
   "metadata": {},
   "outputs": [],
   "source": [
    "# 예시 176\n",
    "\n",
    "# 셀의 값을 지우기 위해서 clear 메서드를 사용합니다.\n",
    "\n",
    "# 아래에 코드를 작성하세요\n",
    "\n"
   ]
  },
  {
   "cell_type": "markdown",
   "metadata": {},
   "source": [
    "---\n",
    "###### 개념설명\n",
    "###### Topic 38\n",
    "\n",
    "### 시트 셀에서 수식 사용하기"
   ]
  },
  {
   "cell_type": "code",
   "execution_count": 21,
   "metadata": {},
   "outputs": [],
   "source": [
    "# 예시 177\n",
    "\n",
    "# formula 속성을 통하여 value를 지정하듯 수식을 지정할 수 있습니다.\n",
    "\n",
    "# 아래에 코드를 작성하세요\n",
    "\n"
   ]
  },
  {
   "cell_type": "markdown",
   "metadata": {},
   "source": [
    "---\n",
    "###### 개념설명\n",
    "###### Topic 39\n",
    "\n",
    "### 시트에서 손쉽게 셀 범위 선택하기"
   ]
  },
  {
   "cell_type": "code",
   "execution_count": 22,
   "metadata": {},
   "outputs": [],
   "source": [
    "# 예시 178\n",
    "\n",
    "# 아래에 코드를 작성하세요\n",
    "\n",
    "\n",
    "\n",
    "# 기준이 되는 셀을 선택하겠습니다.\n",
    "\n",
    "# 아래에 코드를 작성하세요\n",
    "\n",
    "\n",
    "# 데이터가 포함되어 있는 아래방향 셀의 끝을 조회합니다.\n",
    "# address 속성을 통하여 셀의 주소를 확인할 수 있습니다.\n",
    "# end() 메서드는 셀 하나에 대한 Range 객체를 반환합니다.\n",
    "\n",
    "# 아래에 코드를 작성하세요\n",
    "\n",
    "\n",
    "# expand() 메서드를 통하여 데이터가 포함되어 있는 셀의 범위로 확장할 수 있습니다.\n",
    "# 엑셀에서 드래그 하는 것과 유사합니다.\n",
    "# expand() 메서드는 연속된 셀에 대한 Range 객체를 반환합니다.\n",
    "\n",
    "# 아래에 코드를 작성하세요\n",
    "\n"
   ]
  },
  {
   "cell_type": "code",
   "execution_count": 23,
   "metadata": {},
   "outputs": [],
   "source": [
    "# 예시 179\n",
    "\n",
    "# 위를 이용하여 데이터가 연속적으로 포함된 셀 전체를 선택할 수 있습니다.\n",
    "\n",
    "# 아래에 코드를 작성하세요\n",
    "\n",
    "\n",
    "# 전체 선택을 최하단 우측의 셀에서도 진행할 수 있습니다.\n",
    "\n",
    "# 아래에 코드를 작성하세요\n",
    "\n"
   ]
  },
  {
   "cell_type": "markdown",
   "metadata": {},
   "source": [
    "---\n",
    "###### 개념설명\n",
    "###### Topic 40\n",
    "\n",
    "### 엑셀 시트데이터를 데이터프레임으로 변환하기"
   ]
  },
  {
   "cell_type": "code",
   "execution_count": 24,
   "metadata": {},
   "outputs": [],
   "source": [
    "# 예시 180\n",
    "\n",
    "# 아래에 코드를 작성하세요\n",
    "\n"
   ]
  },
  {
   "cell_type": "code",
   "execution_count": 25,
   "metadata": {},
   "outputs": [],
   "source": [
    "# 예시 181\n",
    "\n",
    "# 아래에 코드를 작성하세요\n",
    "\n"
   ]
  },
  {
   "cell_type": "code",
   "execution_count": 26,
   "metadata": {},
   "outputs": [],
   "source": [
    "# 예시 182\n",
    "\n",
    "# pandas DataFrame 객체를 엑셀로 저장할 수 있습니다.\n",
    "\n",
    "# 새로운 통합 문서를 생성하여, 위에서 작업한 df를 삽입하여 보겠습니다.\n",
    "\n",
    "# 아래에 코드를 작성하세요\n",
    "\n"
   ]
  },
  {
   "cell_type": "markdown",
   "metadata": {},
   "source": [
    "---\n",
    "###### 개념설명\n",
    "###### Topic 41\n",
    "\n",
    "### 엑셀 셀 데이터에 서식 지정하기"
   ]
  },
  {
   "cell_type": "code",
   "execution_count": 27,
   "metadata": {},
   "outputs": [],
   "source": [
    "# 예시 183\n",
    "\n",
    "# 셀을 텍스트 크기에 딱 맞게 지정하여 봅시다.\n",
    "# 아래는 너비와 높이를 모두 자동으로 지정합니다.\n",
    "\n",
    "# 아래에 코드를 작성하세요\n",
    "\n",
    "\n",
    "# 너비 혹은 높이를 따로 설정하거나, 각각 맞출 수도 있습니다.\n",
    "\n",
    "# 아래에 코드를 작성하세요\n",
    "\n"
   ]
  },
  {
   "cell_type": "code",
   "execution_count": 28,
   "metadata": {},
   "outputs": [],
   "source": [
    "# 예시 184\n",
    "\n",
    "# color 속성을 통하여 셀의 배경색을 지정할 수 있습니다.\n",
    "# (R, G, B)로 구성된 튜플을 할당합니다.\n",
    "\n",
    "# font.color 속성을 통하여 셀의 글자색을 지정할 수 있습니다.\n",
    "# (R, G, B)로 구성된 튜플을 할당합니다.\n",
    "\n",
    "# 아래에 코드를 작성하세요\n",
    "\n"
   ]
  },
  {
   "cell_type": "code",
   "execution_count": 29,
   "metadata": {},
   "outputs": [],
   "source": [
    "# 예시 185\n",
    "\n",
    "# 셀을 정렬할 수 있습니다. \n",
    "# 아래는 첫번째 행의 가로 정렬을 가운데로 지정합니다.\n",
    "\n",
    "# 아래에 코드를 작성하세요\n",
    "\n"
   ]
  }
 ],
 "metadata": {
  "kernelspec": {
   "display_name": "Python 3 (ipykernel)",
   "language": "python",
   "name": "python3"
  },
  "language_info": {
   "codemirror_mode": {
    "name": "ipython",
    "version": 3
   },
   "file_extension": ".py",
   "mimetype": "text/x-python",
   "name": "python",
   "nbconvert_exporter": "python",
   "pygments_lexer": "ipython3",
   "version": "3.9.13"
  }
 },
 "nbformat": 4,
 "nbformat_minor": 2
}
