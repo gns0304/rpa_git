{
 "cells": [
  {
   "cell_type": "markdown",
   "metadata": {},
   "source": [
    "###### CHAPTER 12\n",
    "# 파일 및 폴더 자동화 : 연습문제\n",
    "---\n",
    "\n",
    "###### 연습 08\n",
    "### 아래 조건에 따라 파일을 확장자 별로 분류하는 프로그램을 함수를 이용하여 작성하시\b세오.\n",
    "\n",
    "#### 조건\n",
    "- jpg, png, jpeg, bmp 의 확장자는 src/Exercise01/Images 폴더로 이동되어야 합니다.\n",
    "- docx, txt, xlsx, pdf 의 확장자는 src/Exercise01/Documents 폴더로 이동되어야 합니다.\n",
    "- avi, mp4, mkv 의 확장자는 src/Exercise01/Vidoes 폴더로 이동되어야 합니다.\n",
    "\n",
    "#### 설계\n",
    "\n",
    "- 변하는 것을 확인하세요. 주어진 조건에서 변화하는 조건을 확인하세요.\n",
    "- 변하지 않는 것을 확인하세요. 주어진 조건에서 변화하지 않는 조건과 행위(동작, 명령)을 생각해보세요.\n",
    "\n",
    "- 변하는 것을 파라미터로 만들어서 함수를 작성해보세요.\n",
    "- 더불어 변하는 것이 어떠한 형태로 만들어져 제공되면 좋을 지 생각해 보세요."
   ]
  },
  {
   "cell_type": "code",
   "execution_count": null,
   "outputs": [],
   "source": [
    "# 아래에 코드를 작성하세요"
   ],
   "metadata": {
    "collapsed": false
   }
  },
  {
   "cell_type": "markdown",
   "metadata": {},
   "source": [
    "---\n",
    "\n",
    "###### 연습 09\n",
    "### 아래 조건에 따라 파일의 포함된 키워드 별로 분류하는 프로그램을 함수를 이용하여 작성하세요.\n",
    "\n",
    "#### 조건\n",
    "- 보고서란 단어가 포함된 파일은 확장자가 무엇이든 src/Exercise02/Reports 폴더로 이동되어야 합니다.\n",
    "- 회의록이란 단어가 포함된 파일은 확장자가 무엇이든 src/Exercise02/Meetings 폴더로 이동되어야 합니다.\n",
    "- 발표자료란 단어가 포함된 파일은 확장자가 pptx인 경우에만 src/Exercise02/Presentations 폴더로 이동되어야 합니다.\n",
    "- 분류되지 않은 나머지 파일은 모두 삭제하세요.\n",
    "\n",
    "\n"
   ]
  },
  {
   "cell_type": "code",
   "execution_count": null,
   "outputs": [],
   "source": [
    "# 아래에 코드를 작성하세요"
   ],
   "metadata": {
    "collapsed": false
   }
  }
 ],
 "metadata": {
  "kernelspec": {
   "display_name": "Python 3 (ipykernel)",
   "language": "python",
   "name": "python3"
  },
  "language_info": {
   "codemirror_mode": {
    "name": "ipython",
    "version": 3
   },
   "file_extension": ".py",
   "mimetype": "text/x-python",
   "name": "python",
   "nbconvert_exporter": "python",
   "pygments_lexer": "ipython3",
   "version": "3.9.13"
  }
 },
 "nbformat": 4,
 "nbformat_minor": 2
}
