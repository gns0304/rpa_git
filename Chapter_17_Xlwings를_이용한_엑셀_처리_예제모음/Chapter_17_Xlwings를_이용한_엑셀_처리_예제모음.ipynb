{
 "cells": [
  {
   "cell_type": "markdown",
   "metadata": {},
   "source": [
    "###### CHAPTER 17\n",
    "# Xlwings를 이용한 엑셀 처리 : 예제모음\n",
    "\n",
    "---\n",
    "###### 예제 07\n",
    "\n",
    "### 조건에 맞게 엑셀 파일을 변경하여 봅시다.\n",
    "\n",
    "#### 조건\n",
    "\n",
    "- H열에 G열의 보증금액의 값을 3셀마다의 합을 계산하여 넣습니다.\n",
    "- 해당 셀에 (0, 0, 0)의 배경색과 (255, 255, 255)의 글자색을 지정합니다.\n",
    "- 셀을 가운데 정렬합니다.\n",
    "- 파일 제목을 주택도시보증공사_전세보증금반환보증_상세현황_수정.xlsx로 저장합니다.\n",
    "- 작업이 종료된 후 창을 닫습니다.\n"
   ]
  },
  {
   "cell_type": "code",
   "execution_count": 1,
   "outputs": [],
   "source": [
    "import xlwings as xw"
   ],
   "metadata": {
    "collapsed": false
   }
  },
  {
   "cell_type": "code",
   "execution_count": 2,
   "outputs": [],
   "source": [
    "# 아래에 코드를 입력하세요"
   ],
   "metadata": {
    "collapsed": false
   }
  },
  {
   "cell_type": "markdown",
   "metadata": {},
   "source": [
    "---\n",
    "###### 예제 08\n",
    "\n",
    "### 여러 엑셀 파일을 각 파일을 시트로하여 하나의 통합 문서로 구성하여 봅시다.\n",
    "\n",
    "#### 조건\n",
    "\n",
    "- 파일이 열리는 순서대로 시트가 생성되어야 합니다.\n",
    "- 모든 시트는 닫혀야 합니다.\n",
    "- 저장 파일의 이름은 전세보증금반환보증_인천광역시_주택유형.xlsx으로 저장합니다.\n",
    "\n",
    "#### 주의\n",
    "- 엑셀 파일은 열릴 때 특정 파일이 작업 중이라는 표시로 ~$로 시작되는 숨김 파일이 생성됩니다.\n",
    "- 기본적으로 확장자만을 가지고 파일을 가지고 오면 이러한 특정 ~$로 시작되는 파일도 함께 불러와집니다.\n",
    "- ~$로 시작되는 파일은 실질적으로 열 수 없기 때문에 이를 제외하고 불러와야 합니다."
   ]
  },
  {
   "cell_type": "code",
   "execution_count": 3,
   "metadata": {},
   "outputs": [],
   "source": [
    "import glob\n",
    "import os\n",
    "import xlwings as xw"
   ]
  },
  {
   "cell_type": "code",
   "execution_count": 4,
   "outputs": [],
   "source": [
    "# 아래에 코드를 입력하세요\n"
   ],
   "metadata": {
    "collapsed": false
   }
  },
  {
   "cell_type": "markdown",
   "metadata": {},
   "source": [
    "---\n",
    "###### 예제 09\n",
    "\n",
    "### 예제 08에서 만들어진 파일에 대하여 각 시트를 각 별도의 통합 문서 파일로 분리하여 봅시다.\n",
    "\n",
    "#### 조건\n",
    "\n",
    "- 모든 시트는 닫혀야 합니다.\n",
    "- 저장 파일의 이름은 저장된 위치와 같은 위치에 전세보증금반환보증_인천광역시_주택유형_{시트이름}.xlsx으로 저장합니다."
   ]
  },
  {
   "cell_type": "code",
   "execution_count": 5,
   "metadata": {},
   "outputs": [],
   "source": [
    "import xlwings as xw"
   ]
  },
  {
   "cell_type": "code",
   "execution_count": 6,
   "outputs": [],
   "source": [
    "# 아래에 코드를 입력하세요\n"
   ],
   "metadata": {
    "collapsed": false
   }
  }
 ],
 "metadata": {
  "kernelspec": {
   "display_name": "Python 3 (ipykernel)",
   "language": "python",
   "name": "python3"
  },
  "language_info": {
   "codemirror_mode": {
    "name": "ipython",
    "version": 3
   },
   "file_extension": ".py",
   "mimetype": "text/x-python",
   "name": "python",
   "nbconvert_exporter": "python",
   "pygments_lexer": "ipython3",
   "version": "3.9.13"
  }
 },
 "nbformat": 4,
 "nbformat_minor": 2
}
