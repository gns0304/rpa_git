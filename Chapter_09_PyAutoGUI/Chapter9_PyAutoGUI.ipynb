{
 "cells": [
  {
   "cell_type": "markdown",
   "metadata": {},
   "source": [
    "###### CHAPTER 09\n",
    "# PyAutoGUI\n",
    "---\n",
    "###### TOPIC 16\n",
    "## PyAutoGUI에 대하여\n",
    "###### 개념설명"
   ]
  },
  {
   "cell_type": "markdown",
   "metadata": {},
   "source": [
    "### PyAutoGUI 설치하기\n",
    "\n",
    "###### 개념설명"
   ]
  },
  {
   "cell_type": "code",
   "execution_count": null,
   "metadata": {},
   "outputs": [],
   "source": [
    "!pip install pyautogui"
   ]
  },
  {
   "cell_type": "markdown",
   "metadata": {},
   "source": [
    "###### 개념설명\n",
    "### 라이브러리 불러오기"
   ]
  },
  {
   "cell_type": "code",
   "execution_count": null,
   "metadata": {},
   "outputs": [],
   "source": [
    "#예시 54\n",
    "\n",
    "# 라이브러리는 최상단 한 곳에 모아두는 것을 권장합니다.\n",
    "# 반복적으로 불러올 필요가 없으며, 수정하는 일이 드물기 때문입니다.\n",
    "\n",
    "# 아래는 pyautogui를 불러오는 코드입니다.\n",
    "\n",
    "# 아래에 코드를 작성하세요\n",
    "\n",
    "\n",
    "# 아래는 time 라이브러리를 불러오는 코드입니다.\n",
    "\n",
    "# 아래에 코드를 작성하세요\n",
    "\n"
   ]
  },
  {
   "cell_type": "markdown",
   "metadata": {},
   "source": [
    "### 작업 공간 확인하기"
   ]
  },
  {
   "cell_type": "code",
   "execution_count": null,
   "metadata": {},
   "outputs": [],
   "source": [
    "#예시 55\n",
    "\n",
    "# 현재의 화면 크기(해상도)를 출력하기\n",
    "\n",
    "# 아래에 코드를 작성하세요"
   ]
  },
  {
   "cell_type": "code",
   "execution_count": null,
   "metadata": {},
   "outputs": [],
   "source": [
    "#예시 56\n",
    "\n",
    "# 현재의 마우스 커서 위치를 출력하기\n",
    "\n",
    "# 아래에 코드를 작성하세요"
   ]
  },
  {
   "cell_type": "code",
   "execution_count": null,
   "metadata": {},
   "outputs": [],
   "source": [
    "#예시 57\n",
    "\n",
    "# 3초 뒤의 마우스 커서의 위치를 출력하기\n",
    "\n",
    "# time 라이브러리의 sleep 함수는 인자로 들어온 시간만큼 코드의 실행을 일시 정지합니다.\n",
    "\n",
    "# 아래에 코드를 작성하세요"
   ]
  },
  {
   "cell_type": "markdown",
   "metadata": {},
   "source": [
    "### 마우스 컨트롤하기"
   ]
  },
  {
   "cell_type": "markdown",
   "metadata": {},
   "source": [
    "#### 마우스 이동하기"
   ]
  },
  {
   "cell_type": "code",
   "execution_count": null,
   "metadata": {},
   "outputs": [],
   "source": [
    "#예시 58\n",
    "\n",
    "# 마우스 커서를 (50, 50) 위치로 이동하기\n",
    "\n",
    "# 아래에 코드를 작성하세요\n",
    "\n",
    "\n",
    "# 마우스 커서를 (100, 100) 위치로 1초 동안 이동하기\n",
    "\n",
    "# 아래에 코드를 작성하세요"
   ]
  },
  {
   "cell_type": "markdown",
   "metadata": {},
   "source": [
    "#### 마우스 클릭하기"
   ]
  },
  {
   "cell_type": "code",
   "execution_count": null,
   "metadata": {},
   "outputs": [],
   "source": [
    "#예시 59\n",
    "\n",
    "# 현재 위치에서 마우스 왼쪽 버튼 클릭하기\n",
    "\n",
    "# 아래에 코드를 작성하세요\n",
    "\n",
    "\n",
    "# 현재 위치에서 마우스 오른쪽 버튼 클릭하기\n",
    "\n",
    "# 아래에 코드를 작성하세요\n",
    "\n",
    "\n",
    "# (100, 100) 위치에서 마우스 클릭하기\n",
    "\n",
    "# 아래에 코드를 작성하세요\n",
    "\n",
    "\n",
    "# (100, 100) 위치에서 마우스 오른쪽 클릭하기\n",
    "\n",
    "# 아래에 코드를 작성하세요\n",
    "\n"
   ]
  },
  {
   "cell_type": "markdown",
   "metadata": {},
   "source": [
    "#### 마우스 드래그하기"
   ]
  },
  {
   "cell_type": "code",
   "execution_count": null,
   "metadata": {},
   "outputs": [],
   "source": [
    "#예시 60\n",
    "\n",
    "# 화면 전환을 위하여 3초간 일시 정지\n",
    "\n",
    "# 아래에 코드를 작성하세요\n",
    "\n",
    "\n",
    "# (100, 100) 위치까지 2초간 오른쪽을 클릭하며 드래그 하기\n",
    "\n",
    "# 아래에 코드를 작성하세요\n",
    "\n"
   ]
  },
  {
   "cell_type": "markdown",
   "metadata": {},
   "source": [
    "### 키보드 컨트롤하기\n"
   ]
  },
  {
   "cell_type": "markdown",
   "metadata": {},
   "source": [
    "#### 현재 위치에 글자 입력하기 (영문 전용)"
   ]
  },
  {
   "cell_type": "code",
   "execution_count": null,
   "metadata": {},
   "outputs": [],
   "source": [
    "#예시 61\n",
    "\n",
    "# 커서를 위치하기 위하여 3초간 일시 정지\n",
    "\n",
    "# 아래에 코드를 작성하세요\n",
    "\n",
    "\n",
    "# 현재 커서 위치에서 텍스트 입력하기\n",
    "\n",
    "# 아래에 코드를 작성하세요\n",
    "\n",
    "\n",
    "# 현재 커서 위치에서 텍스트 당 0.5초 간격으로 입력하기\n",
    "\n",
    "# 아래에 코드를 작성하세요\n",
    "\n"
   ]
  },
  {
   "cell_type": "markdown",
   "metadata": {},
   "source": [
    "#### 특정키 입력하기\n",
    "\n",
    "- https://pyautogui.readthedocs.io/en/latest/keyboard.html#keyboard-keys"
   ]
  },
  {
   "cell_type": "code",
   "execution_count": null,
   "metadata": {},
   "outputs": [],
   "source": [
    "#예시 62\n",
    "\n",
    "# 커서를 위치하기 위하여 3초간 일시 정지\n",
    "\n",
    "# 아래에 코드를 작성하세요\n",
    "\n",
    "\n",
    "# 엔터키 입력 신호 보내기\n",
    "\n",
    "# 아래에 코드를 작성하세요\n",
    "\n",
    "\n",
    "# 여러 키를 조합하여 신호 보내기\n",
    "\n",
    "# 아래에 코드를 작성하세요\n",
    "\n"
   ]
  },
  {
   "cell_type": "markdown",
   "metadata": {},
   "source": [
    "###### TOPIC 17\n",
    "###### 개념설명\n",
    "### 한글 입력 방법에 대해서"
   ]
  },
  {
   "cell_type": "markdown",
   "metadata": {},
   "source": [
    "#### pyperclip 라이브러리"
   ]
  },
  {
   "cell_type": "code",
   "execution_count": 11,
   "metadata": {},
   "outputs": [],
   "source": [
    "!pip install pyperclip"
   ]
  },
  {
   "cell_type": "code",
   "execution_count": 12,
   "metadata": {},
   "outputs": [],
   "source": [
    "#예시 63\n",
    "\n",
    "# import문은 코드 최상단에 위치하는 것을 권장합니다만, 코드 중간에서 라이브러리를 설치하였기 때문에, 최상단에서 이를 불러오는 것이 불가능합니다.\n",
    "\n",
    "# 따라서 현재 셀에서 pyperclip 라이브러리를 불러옵니다.\n",
    "# 추후 라이브러리가 설치된 환경에서는 최상단으로 이동하여 한 번에 불러오는 것을 권장합니다.\n",
    "\n",
    "# 아래에 코드를 작성하세요\n",
    "\n"
   ]
  },
  {
   "cell_type": "code",
   "execution_count": 13,
   "metadata": {},
   "outputs": [],
   "source": [
    "#예시 64\n",
    "\n",
    "# 아래 코드는 클립보드로 복사하는 과정입니다.\n",
    "\n",
    "\n",
    "# 아래에 코드를 작성하세요\n",
    "\n",
    "\n",
    "# 아래의 pyautogui 코드를 통하여 활성화된 텍스트 입력 창에 붙여넣을 수 있습니다.\n",
    "\n",
    "\n",
    "# 아래에 코드를 작성하세요\n",
    "\n"
   ]
  },
  {
   "cell_type": "markdown",
   "metadata": {},
   "source": [
    "### 특정 이름을 포함하는 창을 활성화 하기"
   ]
  },
  {
   "cell_type": "code",
   "execution_count": 14,
   "metadata": {},
   "outputs": [],
   "source": [
    "#예시 65\n",
    "\n",
    "# 창의 이름으로부터 현재 열려있는 창 불러오기\n",
    "\n",
    "# 아래에 코드를 작성하세요\n",
    "\n",
    "\n",
    "# 창 목록의 변수형 확인하기\n",
    "\n",
    "# 아래에 코드를 작성하세요\n",
    "\n",
    "\n",
    "# 창 활성화 하기\n",
    "\n",
    "# 아래에 코드를 작성하세요\n",
    "\n",
    "\n",
    "\n",
    "# 한글 입력 연습하기\n",
    "\n",
    "# 아래에 코드를 작성하세요\n",
    "\n",
    "\n",
    "# 영어 입력 연습하기\n",
    "\n",
    "# 아래에 코드를 작성하세요\n",
    "\n"
   ]
  },
  {
   "cell_type": "markdown",
   "metadata": {},
   "source": [
    "### 대화창 및 입력창 띄우기"
   ]
  },
  {
   "cell_type": "code",
   "execution_count": 15,
   "metadata": {},
   "outputs": [],
   "source": [
    "#예시 66\n",
    "\n",
    "# 아래에 코드를 작성하세요\n",
    "\n"
   ]
  },
  {
   "cell_type": "code",
   "execution_count": 16,
   "metadata": {},
   "outputs": [],
   "source": [
    "#예시 67\n",
    "\n",
    "#아래에 코드를 작성하세요\n",
    "\n"
   ]
  },
  {
   "cell_type": "code",
   "execution_count": 17,
   "metadata": {},
   "outputs": [],
   "source": [
    "#예시 68\n",
    "\n",
    "# 아래에 코드를 작성하세요\n",
    "\n"
   ]
  }
 ],
 "metadata": {
  "kernelspec": {
   "display_name": "Python 3 (ipykernel)",
   "language": "python",
   "name": "python3"
  },
  "language_info": {
   "codemirror_mode": {
    "name": "ipython",
    "version": 3
   },
   "file_extension": ".py",
   "mimetype": "text/x-python",
   "name": "python",
   "nbconvert_exporter": "python",
   "pygments_lexer": "ipython3",
   "version": "3.9.13"
  }
 },
 "nbformat": 4,
 "nbformat_minor": 2
}
